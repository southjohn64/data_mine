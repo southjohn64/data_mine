{
  "nbformat": 4,
  "nbformat_minor": 0,
  "metadata": {
    "kernelspec": {
      "display_name": "Python 3",
      "language": "python",
      "name": "python3"
    },
    "language_info": {
      "codemirror_mode": {
        "name": "ipython",
        "version": 3
      },
      "file_extension": ".py",
      "mimetype": "text/x-python",
      "name": "python",
      "nbconvert_exporter": "python",
      "pygments_lexer": "ipython3",
      "version": "3.6.7"
    },
    "colab": {
      "name": "Copy of HW 3.ipynb",
      "provenance": [],
      "collapsed_sections": [],
      "include_colab_link": true
    }
  },
  "cells": [
    {
      "cell_type": "markdown",
      "metadata": {
        "id": "view-in-github",
        "colab_type": "text"
      },
      "source": [
        "<a href=\"https://colab.research.google.com/github/southjohn64/data_mine/blob/main/Copy_of_HW_3.ipynb\" target=\"_parent\"><img src=\"https://colab.research.google.com/assets/colab-badge.svg\" alt=\"Open In Colab\"/></a>"
      ]
    },
    {
      "cell_type": "markdown",
      "metadata": {
        "id": "yEpzoJKH0P2W"
      },
      "source": [
        "# Homework Assignment 3"
      ]
    },
    {
      "cell_type": "code",
      "metadata": {
        "colab": {
          "base_uri": "https://localhost:8080/"
        },
        "id": "0UjnuJREuaeD",
        "outputId": "8810ccac-63d3-4307-866c-770bf1111221"
      },
      "source": [
        "from google.colab import drive\n",
        "drive.mount('/content/drive')"
      ],
      "execution_count": 3,
      "outputs": [
        {
          "output_type": "stream",
          "name": "stdout",
          "text": [
            "Drive already mounted at /content/drive; to attempt to forcibly remount, call drive.mount(\"/content/drive\", force_remount=True).\n"
          ]
        }
      ]
    },
    {
      "cell_type": "code",
      "metadata": {
        "colab": {
          "base_uri": "https://localhost:8080/"
        },
        "id": "i-H32MHYucGO",
        "outputId": "1016c944-52a3-4afb-ec2c-5a31a0a0ba82"
      },
      "source": [
        "\n",
        "import json\n",
        "import os\n",
        "\n",
        "# Installing the Kaggle package\n",
        "!pip install kaggle \n",
        "\n",
        "#Important Note: complete this with your own key - after running this for the first time remmember to **remove** your API_KEY\n",
        "#api_token = {\"username\":\"<Insert Your Kaggle User Name>\",\"key\":\"<Insert Your Kaggle API key>\"}\n",
        "\n",
        "\n",
        "# creating kaggle.json file with the personal API-Key details \n",
        "# You can also put this file on your Google Drive\n",
        "#with open('/root/.kaggle/kaggle.json', 'w') as file:\n",
        "#  json.dump(api_token, file)\n",
        "!mkdir /root/.kaggle/\n",
        "# NOTICE: place the path to your kaggle.json file on your drive\n",
        "!cp /content/drive/MyDrive/kaggle.json  /root/.kaggle/kaggle.json\n",
        "!chmod 600 /root/.kaggle/kaggle.json"
      ],
      "execution_count": 4,
      "outputs": [
        {
          "output_type": "stream",
          "name": "stdout",
          "text": [
            "Requirement already satisfied: kaggle in /usr/local/lib/python3.7/dist-packages (1.5.12)\n",
            "Requirement already satisfied: urllib3 in /usr/local/lib/python3.7/dist-packages (from kaggle) (1.24.3)\n",
            "Requirement already satisfied: requests in /usr/local/lib/python3.7/dist-packages (from kaggle) (2.23.0)\n",
            "Requirement already satisfied: python-slugify in /usr/local/lib/python3.7/dist-packages (from kaggle) (5.0.2)\n",
            "Requirement already satisfied: certifi in /usr/local/lib/python3.7/dist-packages (from kaggle) (2021.5.30)\n",
            "Requirement already satisfied: python-dateutil in /usr/local/lib/python3.7/dist-packages (from kaggle) (2.8.2)\n",
            "Requirement already satisfied: tqdm in /usr/local/lib/python3.7/dist-packages (from kaggle) (4.62.3)\n",
            "Requirement already satisfied: six>=1.10 in /usr/local/lib/python3.7/dist-packages (from kaggle) (1.15.0)\n",
            "Requirement already satisfied: text-unidecode>=1.3 in /usr/local/lib/python3.7/dist-packages (from python-slugify->kaggle) (1.3)\n",
            "Requirement already satisfied: chardet<4,>=3.0.2 in /usr/local/lib/python3.7/dist-packages (from requests->kaggle) (3.0.4)\n",
            "Requirement already satisfied: idna<3,>=2.5 in /usr/local/lib/python3.7/dist-packages (from requests->kaggle) (2.10)\n",
            "mkdir: cannot create directory ‘/root/.kaggle/’: File exists\n"
          ]
        }
      ]
    },
    {
      "cell_type": "code",
      "metadata": {
        "colab": {
          "base_uri": "https://localhost:8080/",
          "height": 1000
        },
        "id": "meleE9A3udoQ",
        "outputId": "a5daa86c-47e9-4484-a73e-cbd7a57ca52f"
      },
      "source": [
        "!pip install turicreate"
      ],
      "execution_count": 4,
      "outputs": [
        {
          "output_type": "stream",
          "name": "stdout",
          "text": [
            "\u001b[K     |████████████████████████████████| 86.4 MB 19 kB/s \n",
            "\u001b[?25hCollecting prettytable==0.7.2\n",
            "  Downloading prettytable-0.7.2.zip (28 kB)\n",
            "Requirement already satisfied: requests>=2.9.1 in /usr/local/lib/python3.7/dist-packages (from turicreate) (2.23.0)\n",
            "Requirement already satisfied: six>=1.10.0 in /usr/local/lib/python3.7/dist-packages (from turicreate) (1.15.0)\n",
            "Requirement already satisfied: pillow>=5.2.0 in /usr/local/lib/python3.7/dist-packages (from turicreate) (7.1.2)\n",
            "Requirement already satisfied: protobuf>=3.1.0 in /usr/local/lib/python3.7/dist-packages (from coremltools==3.3->turicreate) (3.17.3)\n",
            "Collecting llvmlite<0.34,>=0.33.0.dev0\n",
            "  Downloading llvmlite-0.33.0-cp37-cp37m-manylinux1_x86_64.whl (18.3 MB)\n",
            "\u001b[K     |████████████████████████████████| 18.3 MB 80 kB/s \n",
            "\u001b[?25hRequirement already satisfied: setuptools in /usr/local/lib/python3.7/dist-packages (from numba<0.51.0->turicreate) (57.4.0)\n",
            "Requirement already satisfied: python-dateutil>=2.7.3 in /usr/local/lib/python3.7/dist-packages (from pandas>=0.23.2->turicreate) (2.8.2)\n",
            "Requirement already satisfied: pytz>=2017.2 in /usr/local/lib/python3.7/dist-packages (from pandas>=0.23.2->turicreate) (2018.9)\n",
            "Requirement already satisfied: urllib3!=1.25.0,!=1.25.1,<1.26,>=1.21.1 in /usr/local/lib/python3.7/dist-packages (from requests>=2.9.1->turicreate) (1.24.3)\n",
            "Requirement already satisfied: chardet<4,>=3.0.2 in /usr/local/lib/python3.7/dist-packages (from requests>=2.9.1->turicreate) (3.0.4)\n",
            "Requirement already satisfied: idna<3,>=2.5 in /usr/local/lib/python3.7/dist-packages (from requests>=2.9.1->turicreate) (2.10)\n",
            "Requirement already satisfied: certifi>=2017.4.17 in /usr/local/lib/python3.7/dist-packages (from requests>=2.9.1->turicreate) (2021.5.30)\n",
            "Collecting tensorflow-estimator<2.1.0,>=2.0.0\n",
            "  Downloading tensorflow_estimator-2.0.1-py2.py3-none-any.whl (449 kB)\n",
            "\u001b[K     |████████████████████████████████| 449 kB 60.2 MB/s \n",
            "\u001b[?25hRequirement already satisfied: absl-py>=0.7.0 in /usr/local/lib/python3.7/dist-packages (from tensorflow<2.1.0,>=2.0.0->turicreate) (0.12.0)\n",
            "Collecting numpy\n",
            "  Downloading numpy-1.18.5-cp37-cp37m-manylinux1_x86_64.whl (20.1 MB)\n",
            "\u001b[K     |████████████████████████████████| 20.1 MB 12.5 MB/s \n",
            "\u001b[?25hCollecting gast==0.2.2\n",
            "  Downloading gast-0.2.2.tar.gz (10 kB)\n",
            "Requirement already satisfied: google-pasta>=0.1.6 in /usr/local/lib/python3.7/dist-packages (from tensorflow<2.1.0,>=2.0.0->turicreate) (0.2.0)\n",
            "Requirement already satisfied: wheel>=0.26 in /usr/local/lib/python3.7/dist-packages (from tensorflow<2.1.0,>=2.0.0->turicreate) (0.37.0)\n",
            "Requirement already satisfied: termcolor>=1.1.0 in /usr/local/lib/python3.7/dist-packages (from tensorflow<2.1.0,>=2.0.0->turicreate) (1.1.0)\n",
            "Collecting tensorboard<2.1.0,>=2.0.0\n",
            "  Downloading tensorboard-2.0.2-py3-none-any.whl (3.8 MB)\n",
            "\u001b[K     |████████████████████████████████| 3.8 MB 48.4 MB/s \n",
            "\u001b[?25hCollecting keras-applications>=1.0.8\n",
            "  Downloading Keras_Applications-1.0.8-py3-none-any.whl (50 kB)\n",
            "\u001b[K     |████████████████████████████████| 50 kB 3.1 MB/s \n",
            "\u001b[?25hRequirement already satisfied: opt-einsum>=2.3.2 in /usr/local/lib/python3.7/dist-packages (from tensorflow<2.1.0,>=2.0.0->turicreate) (3.3.0)\n",
            "Requirement already satisfied: wrapt>=1.11.1 in /usr/local/lib/python3.7/dist-packages (from tensorflow<2.1.0,>=2.0.0->turicreate) (1.12.1)\n",
            "Requirement already satisfied: grpcio>=1.8.6 in /usr/local/lib/python3.7/dist-packages (from tensorflow<2.1.0,>=2.0.0->turicreate) (1.41.0)\n",
            "Requirement already satisfied: keras-preprocessing>=1.0.5 in /usr/local/lib/python3.7/dist-packages (from tensorflow<2.1.0,>=2.0.0->turicreate) (1.1.2)\n",
            "Collecting h5py<=2.10.0\n",
            "  Downloading h5py-2.10.0-cp37-cp37m-manylinux1_x86_64.whl (2.9 MB)\n",
            "\u001b[K     |████████████████████████████████| 2.9 MB 36.7 MB/s \n",
            "\u001b[?25hRequirement already satisfied: astor>=0.6.0 in /usr/local/lib/python3.7/dist-packages (from tensorflow<2.1.0,>=2.0.0->turicreate) (0.8.1)\n",
            "Requirement already satisfied: werkzeug>=0.11.15 in /usr/local/lib/python3.7/dist-packages (from tensorboard<2.1.0,>=2.0.0->tensorflow<2.1.0,>=2.0.0->turicreate) (1.0.1)\n",
            "Requirement already satisfied: google-auth<2,>=1.6.3 in /usr/local/lib/python3.7/dist-packages (from tensorboard<2.1.0,>=2.0.0->tensorflow<2.1.0,>=2.0.0->turicreate) (1.35.0)\n",
            "Requirement already satisfied: markdown>=2.6.8 in /usr/local/lib/python3.7/dist-packages (from tensorboard<2.1.0,>=2.0.0->tensorflow<2.1.0,>=2.0.0->turicreate) (3.3.4)\n",
            "Requirement already satisfied: google-auth-oauthlib<0.5,>=0.4.1 in /usr/local/lib/python3.7/dist-packages (from tensorboard<2.1.0,>=2.0.0->tensorflow<2.1.0,>=2.0.0->turicreate) (0.4.6)\n",
            "Requirement already satisfied: pyasn1-modules>=0.2.1 in /usr/local/lib/python3.7/dist-packages (from google-auth<2,>=1.6.3->tensorboard<2.1.0,>=2.0.0->tensorflow<2.1.0,>=2.0.0->turicreate) (0.2.8)\n",
            "Requirement already satisfied: rsa<5,>=3.1.4 in /usr/local/lib/python3.7/dist-packages (from google-auth<2,>=1.6.3->tensorboard<2.1.0,>=2.0.0->tensorflow<2.1.0,>=2.0.0->turicreate) (4.7.2)\n",
            "Requirement already satisfied: cachetools<5.0,>=2.0.0 in /usr/local/lib/python3.7/dist-packages (from google-auth<2,>=1.6.3->tensorboard<2.1.0,>=2.0.0->tensorflow<2.1.0,>=2.0.0->turicreate) (4.2.4)\n",
            "Requirement already satisfied: requests-oauthlib>=0.7.0 in /usr/local/lib/python3.7/dist-packages (from google-auth-oauthlib<0.5,>=0.4.1->tensorboard<2.1.0,>=2.0.0->tensorflow<2.1.0,>=2.0.0->turicreate) (1.3.0)\n",
            "Requirement already satisfied: importlib-metadata in /usr/local/lib/python3.7/dist-packages (from markdown>=2.6.8->tensorboard<2.1.0,>=2.0.0->tensorflow<2.1.0,>=2.0.0->turicreate) (4.8.1)\n",
            "Requirement already satisfied: pyasn1<0.5.0,>=0.4.6 in /usr/local/lib/python3.7/dist-packages (from pyasn1-modules>=0.2.1->google-auth<2,>=1.6.3->tensorboard<2.1.0,>=2.0.0->tensorflow<2.1.0,>=2.0.0->turicreate) (0.4.8)\n",
            "Requirement already satisfied: oauthlib>=3.0.0 in /usr/local/lib/python3.7/dist-packages (from requests-oauthlib>=0.7.0->google-auth-oauthlib<0.5,>=0.4.1->tensorboard<2.1.0,>=2.0.0->tensorflow<2.1.0,>=2.0.0->turicreate) (3.1.1)\n",
            "Requirement already satisfied: typing-extensions>=3.6.4 in /usr/local/lib/python3.7/dist-packages (from importlib-metadata->markdown>=2.6.8->tensorboard<2.1.0,>=2.0.0->tensorflow<2.1.0,>=2.0.0->turicreate) (3.7.4.3)\n",
            "Requirement already satisfied: zipp>=0.5 in /usr/local/lib/python3.7/dist-packages (from importlib-metadata->markdown>=2.6.8->tensorboard<2.1.0,>=2.0.0->tensorflow<2.1.0,>=2.0.0->turicreate) (3.6.0)\n",
            "Building wheels for collected packages: prettytable, resampy, gast\n",
            "  Building wheel for prettytable (setup.py) ... \u001b[?25l\u001b[?25hdone\n",
            "  Created wheel for prettytable: filename=prettytable-0.7.2-py3-none-any.whl size=13714 sha256=50cffc338408dc0757faeb2b677f8d7631529cc7ce86ae046d70795b3aa9532b\n",
            "  Stored in directory: /root/.cache/pip/wheels/b2/7f/f6/f180315b584f00445045ff1699b550fa895d09471337ce21c6\n",
            "  Building wheel for resampy (setup.py) ... \u001b[?25l\u001b[?25hdone\n",
            "  Created wheel for resampy: filename=resampy-0.2.1-py3-none-any.whl size=320860 sha256=ed858e4dcabf713e78740b01b2bb508d960c8856a66b88064a5282ee36296243\n",
            "  Stored in directory: /root/.cache/pip/wheels/71/74/53/d5ceb7c5ee7a168c7d106041863e71ac3273f4a4677743a284\n",
            "  Building wheel for gast (setup.py) ... \u001b[?25l\u001b[?25hdone\n",
            "  Created wheel for gast: filename=gast-0.2.2-py3-none-any.whl size=7554 sha256=382c9ccab85c52f9f986689a81221133d60c27c126c5f35701c13830e03f87c4\n",
            "  Stored in directory: /root/.cache/pip/wheels/21/7f/02/420f32a803f7d0967b48dd823da3f558c5166991bfd204eef3\n",
            "Successfully built prettytable resampy gast\n",
            "Installing collected packages: numpy, llvmlite, h5py, tensorflow-estimator, tensorboard, numba, keras-applications, gast, tensorflow, resampy, prettytable, coremltools, turicreate\n",
            "  Attempting uninstall: numpy\n",
            "    Found existing installation: numpy 1.19.5\n",
            "    Uninstalling numpy-1.19.5:\n",
            "      Successfully uninstalled numpy-1.19.5\n",
            "  Attempting uninstall: llvmlite\n",
            "    Found existing installation: llvmlite 0.34.0\n",
            "    Uninstalling llvmlite-0.34.0:\n",
            "      Successfully uninstalled llvmlite-0.34.0\n",
            "  Attempting uninstall: h5py\n",
            "    Found existing installation: h5py 3.1.0\n",
            "    Uninstalling h5py-3.1.0:\n",
            "      Successfully uninstalled h5py-3.1.0\n",
            "  Attempting uninstall: tensorflow-estimator\n",
            "    Found existing installation: tensorflow-estimator 2.6.0\n",
            "    Uninstalling tensorflow-estimator-2.6.0:\n",
            "      Successfully uninstalled tensorflow-estimator-2.6.0\n",
            "  Attempting uninstall: tensorboard\n",
            "    Found existing installation: tensorboard 2.6.0\n",
            "    Uninstalling tensorboard-2.6.0:\n",
            "      Successfully uninstalled tensorboard-2.6.0\n",
            "  Attempting uninstall: numba\n",
            "    Found existing installation: numba 0.51.2\n",
            "    Uninstalling numba-0.51.2:\n",
            "      Successfully uninstalled numba-0.51.2\n",
            "  Attempting uninstall: gast\n",
            "    Found existing installation: gast 0.4.0\n",
            "    Uninstalling gast-0.4.0:\n",
            "      Successfully uninstalled gast-0.4.0\n",
            "  Attempting uninstall: tensorflow\n",
            "    Found existing installation: tensorflow 2.6.0\n",
            "    Uninstalling tensorflow-2.6.0:\n",
            "      Successfully uninstalled tensorflow-2.6.0\n",
            "  Attempting uninstall: resampy\n",
            "    Found existing installation: resampy 0.2.2\n",
            "    Uninstalling resampy-0.2.2:\n",
            "      Successfully uninstalled resampy-0.2.2\n",
            "  Attempting uninstall: prettytable\n",
            "    Found existing installation: prettytable 2.2.1\n",
            "    Uninstalling prettytable-2.2.1:\n",
            "      Successfully uninstalled prettytable-2.2.1\n",
            "\u001b[31mERROR: pip's dependency resolver does not currently take into account all the packages that are installed. This behaviour is the source of the following dependency conflicts.\n",
            "tensorflow-probability 0.14.1 requires gast>=0.3.2, but you have gast 0.2.2 which is incompatible.\n",
            "librosa 0.8.1 requires resampy>=0.2.2, but you have resampy 0.2.1 which is incompatible.\n",
            "datascience 0.10.6 requires folium==0.2.1, but you have folium 0.8.3 which is incompatible.\n",
            "albumentations 0.1.12 requires imgaug<0.2.7,>=0.2.5, but you have imgaug 0.2.9 which is incompatible.\u001b[0m\n",
            "Successfully installed coremltools-3.3 gast-0.2.2 h5py-2.10.0 keras-applications-1.0.8 llvmlite-0.33.0 numba-0.50.1 numpy-1.18.5 prettytable-0.7.2 resampy-0.2.1 tensorboard-2.0.2 tensorflow-2.0.4 tensorflow-estimator-2.0.1 turicreate-6.4.1\n"
          ]
        },
        {
          "output_type": "display_data",
          "data": {
            "application/vnd.colab-display-data+json": {
              "pip_warning": {
                "packages": [
                  "numpy"
                ]
              }
            }
          },
          "metadata": {}
        }
      ]
    },
    {
      "cell_type": "markdown",
      "metadata": {
        "id": "oH_ZGm7d0P2Z"
      },
      "source": [
        "Using the [Seattle Library Collection Inventory Dataset](https://www.kaggle.com/city-of-seattle/seattle-library-collection-inventory#library-collection-inventory.csv) and TuriCreate please, answer the following questions:"
      ]
    },
    {
      "cell_type": "markdown",
      "metadata": {
        "id": "LG0KyuFD0P2b"
      },
      "source": [
        "**Question 1:** Write a function that returns the most popular book in each subject. Use it to find the most popular book in\n",
        "    the _Mystery Fiction_ subject (15pt)"
      ]
    },
    {
      "cell_type": "code",
      "metadata": {
        "colab": {
          "base_uri": "https://localhost:8080/"
        },
        "id": "-37T8MWJuhFm",
        "outputId": "27241b9b-7a33-40ac-fbc7-a3dedbd32a48"
      },
      "source": [
        "# Creating a dataset directory\n",
        "\n",
        "!mkdir ./datasets\n",
        "!mkdir ./datasets/library-collection\n",
        "\n",
        "# download the dataset from Kaggle and unzip it\n",
        "!kaggle datasets download city-of-seattle/seattle-library-collection-inventory  -f library-collection-inventory.csv -p ./datasets/library-collection/\n",
        "!unzip ./datasets/library-collection/*.zip  -d ./datasets/library-collection\n",
        "!ls ./datasets/library-collection"
      ],
      "execution_count": 5,
      "outputs": [
        {
          "output_type": "stream",
          "name": "stdout",
          "text": [
            "Downloading library-collection-inventory.csv.zip to ./datasets/library-collection\n",
            "100% 3.77G/3.77G [01:10<00:00, 33.1MB/s]\n",
            "100% 3.77G/3.77G [01:10<00:00, 57.1MB/s]\n",
            "Archive:  ./datasets/library-collection/library-collection-inventory.csv.zip\n",
            "  inflating: ./datasets/library-collection/library-collection-inventory.csv  \n",
            "library-collection-inventory.csv  library-collection-inventory.csv.zip\n"
          ]
        }
      ]
    },
    {
      "cell_type": "code",
      "metadata": {
        "id": "Ub2x4KPX0P2d",
        "colab": {
          "base_uri": "https://localhost:8080/",
          "height": 1000
        },
        "outputId": "1d286852-135b-4a8b-ed8e-d71aa5f2fbaa"
      },
      "source": [
        "import turicreate as tc\n",
        "%matplotlib inline\n",
        "\n",
        "#Loading a CSV to SFrame (this can take some time)\n",
        "sf = tc.SFrame.read_csv(\"/content/datasets/library-collection/library-collection-inventory.csv\")\n",
        "sf"
      ],
      "execution_count": 6,
      "outputs": [
        {
          "output_type": "display_data",
          "data": {
            "text/html": [
              "<pre>Successfully parsed 10 tokens: \n",
              "\t0: 735439\n",
              "\t1: [\"Genealog ... t.\",,1947]\n",
              "\t2: \n",
              "\t3: Enloes family\n",
              "\t4: arbk\n",
              "\t5: caref\n",
              "\t6: \n",
              "\t7: cen\n",
              "\t8: 2017-09-01 ... :00:00.000\n",
              "\t9: 1</pre>"
            ],
            "text/plain": [
              "Successfully parsed 10 tokens: \n",
              "\t0: 735439\n",
              "\t1: [\"Genealog ... t.\",,1947]\n",
              "\t2: \n",
              "\t3: Enloes family\n",
              "\t4: arbk\n",
              "\t5: caref\n",
              "\t6: \n",
              "\t7: cen\n",
              "\t8: 2017-09-01 ... :00:00.000\n",
              "\t9: 1"
            ]
          },
          "metadata": {}
        },
        {
          "output_type": "display_data",
          "data": {
            "text/html": [
              "<pre>1 lines failed to parse correctly</pre>"
            ],
            "text/plain": [
              "1 lines failed to parse correctly"
            ]
          },
          "metadata": {}
        },
        {
          "output_type": "display_data",
          "data": {
            "text/html": [
              "<pre>Finished parsing file /content/datasets/library-collection/library-collection-inventory.csv</pre>"
            ],
            "text/plain": [
              "Finished parsing file /content/datasets/library-collection/library-collection-inventory.csv"
            ]
          },
          "metadata": {}
        },
        {
          "output_type": "display_data",
          "data": {
            "text/html": [
              "<pre>Parsing completed. Parsed 100 lines in 2.08769 secs.</pre>"
            ],
            "text/plain": [
              "Parsing completed. Parsed 100 lines in 2.08769 secs."
            ]
          },
          "metadata": {}
        },
        {
          "output_type": "stream",
          "name": "stdout",
          "text": [
            "------------------------------------------------------\n",
            "Inferred types from first 100 line(s) of file as \n",
            "column_type_hints=[int,str,str,str,str,str,str,str,str,str,str,str,int]\n",
            "If parsing fails due to incorrect types, you can correct\n",
            "the inferred type list above and pass it to read_csv in\n",
            "the column_type_hints argument\n",
            "------------------------------------------------------\n"
          ]
        },
        {
          "output_type": "display_data",
          "data": {
            "text/html": [
              "<pre>Successfully parsed 10 tokens: \n",
              "\t0: 735439\n",
              "\t1: [Genealogy ... t.\",,1947]\n",
              "\t2: \n",
              "\t3: Enloes family\n",
              "\t4: arbk\n",
              "\t5: caref\n",
              "\t6: \n",
              "\t7: cen\n",
              "\t8: 2017-09-01 ... :00:00.000\n",
              "\t9: 1</pre>"
            ],
            "text/plain": [
              "Successfully parsed 10 tokens: \n",
              "\t0: 735439\n",
              "\t1: [Genealogy ... t.\",,1947]\n",
              "\t2: \n",
              "\t3: Enloes family\n",
              "\t4: arbk\n",
              "\t5: caref\n",
              "\t6: \n",
              "\t7: cen\n",
              "\t8: 2017-09-01 ... :00:00.000\n",
              "\t9: 1"
            ]
          },
          "metadata": {}
        },
        {
          "output_type": "display_data",
          "data": {
            "text/html": [
              "<pre>Read 158429 lines. Lines per second: 58874.3</pre>"
            ],
            "text/plain": [
              "Read 158429 lines. Lines per second: 58874.3"
            ]
          },
          "metadata": {}
        },
        {
          "output_type": "display_data",
          "data": {
            "text/html": [
              "<pre>Read 633885 lines. Lines per second: 80155</pre>"
            ],
            "text/plain": [
              "Read 633885 lines. Lines per second: 80155"
            ]
          },
          "metadata": {}
        },
        {
          "output_type": "display_data",
          "data": {
            "text/html": [
              "<pre>Successfully parsed 9 tokens: \n",
              "\t0: 362786\n",
              "\t1: [Records., ... l Society]\n",
              "\t2: Registers  ... astchester\n",
              "\t3: arbk\n",
              "\t4: caref\n",
              "\t5: \n",
              "\t6: cen\n",
              "\t7: 2017-09-01 ... :00:00.000\n",
              "\t8: 1</pre>"
            ],
            "text/plain": [
              "Successfully parsed 9 tokens: \n",
              "\t0: 362786\n",
              "\t1: [Records., ... l Society]\n",
              "\t2: Registers  ... astchester\n",
              "\t3: arbk\n",
              "\t4: caref\n",
              "\t5: \n",
              "\t6: cen\n",
              "\t7: 2017-09-01 ... :00:00.000\n",
              "\t8: 1"
            ]
          },
          "metadata": {}
        },
        {
          "output_type": "display_data",
          "data": {
            "text/html": [
              "<pre>Successfully parsed 10 tokens: \n",
              "\t0: 28078\n",
              "\t1: [Papers.,\" ... 9)\",,1969]\n",
              "\t2: \n",
              "\t3: Genealogy Congresses\n",
              "\t4: arbk\n",
              "\t5: caref\n",
              "\t6: \n",
              "\t7: cen\n",
              "\t8: 2017-09-01 ... :00:00.000\n",
              "\t9: 6</pre>"
            ],
            "text/plain": [
              "Successfully parsed 10 tokens: \n",
              "\t0: 28078\n",
              "\t1: [Papers.,\" ... 9)\",,1969]\n",
              "\t2: \n",
              "\t3: Genealogy Congresses\n",
              "\t4: arbk\n",
              "\t5: caref\n",
              "\t6: \n",
              "\t7: cen\n",
              "\t8: 2017-09-01 ... :00:00.000\n",
              "\t9: 6"
            ]
          },
          "metadata": {}
        },
        {
          "output_type": "display_data",
          "data": {
            "text/html": [
              "<pre>Read 1108904 lines. Lines per second: 84323.3</pre>"
            ],
            "text/plain": [
              "Read 1108904 lines. Lines per second: 84323.3"
            ]
          },
          "metadata": {}
        },
        {
          "output_type": "display_data",
          "data": {
            "text/html": [
              "<pre>Successfully parsed 9 tokens: \n",
              "\t0: 362786\n",
              "\t1: [Records., ... l Society]\n",
              "\t2: Registers  ... astchester\n",
              "\t3: arbk\n",
              "\t4: caref\n",
              "\t5: \n",
              "\t6: cen\n",
              "\t7: 2017-10-01 ... :00:00.000\n",
              "\t8: 1</pre>"
            ],
            "text/plain": [
              "Successfully parsed 9 tokens: \n",
              "\t0: 362786\n",
              "\t1: [Records., ... l Society]\n",
              "\t2: Registers  ... astchester\n",
              "\t3: arbk\n",
              "\t4: caref\n",
              "\t5: \n",
              "\t6: cen\n",
              "\t7: 2017-10-01 ... :00:00.000\n",
              "\t8: 1"
            ]
          },
          "metadata": {}
        },
        {
          "output_type": "display_data",
          "data": {
            "text/html": [
              "<pre>Read 1583786 lines. Lines per second: 85860.7</pre>"
            ],
            "text/plain": [
              "Read 1583786 lines. Lines per second: 85860.7"
            ]
          },
          "metadata": {}
        },
        {
          "output_type": "display_data",
          "data": {
            "text/html": [
              "<pre>Read 2058239 lines. Lines per second: 86416.9</pre>"
            ],
            "text/plain": [
              "Read 2058239 lines. Lines per second: 86416.9"
            ]
          },
          "metadata": {}
        },
        {
          "output_type": "display_data",
          "data": {
            "text/html": [
              "<pre>Successfully parsed 10 tokens: \n",
              "\t0: 735439\n",
              "\t1: [Genealogy ... t.\",,1947]\n",
              "\t2: \n",
              "\t3: Enloes family\n",
              "\t4: arbk\n",
              "\t5: caref\n",
              "\t6: \n",
              "\t7: cen\n",
              "\t8: 2017-10-01 ... :00:00.000\n",
              "\t9: 1</pre>"
            ],
            "text/plain": [
              "Successfully parsed 10 tokens: \n",
              "\t0: 735439\n",
              "\t1: [Genealogy ... t.\",,1947]\n",
              "\t2: \n",
              "\t3: Enloes family\n",
              "\t4: arbk\n",
              "\t5: caref\n",
              "\t6: \n",
              "\t7: cen\n",
              "\t8: 2017-10-01 ... :00:00.000\n",
              "\t9: 1"
            ]
          },
          "metadata": {}
        },
        {
          "output_type": "display_data",
          "data": {
            "text/html": [
              "<pre>Successfully parsed 10 tokens: \n",
              "\t0: 28078\n",
              "\t1: [Papers.,\" ... 9)\",,1969]\n",
              "\t2: \n",
              "\t3: Genealogy Congresses\n",
              "\t4: arbk\n",
              "\t5: caref\n",
              "\t6: \n",
              "\t7: cen\n",
              "\t8: 2017-10-01 ... :00:00.000\n",
              "\t9: 6</pre>"
            ],
            "text/plain": [
              "Successfully parsed 10 tokens: \n",
              "\t0: 28078\n",
              "\t1: [Papers.,\" ... 9)\",,1969]\n",
              "\t2: \n",
              "\t3: Genealogy Congresses\n",
              "\t4: arbk\n",
              "\t5: caref\n",
              "\t6: \n",
              "\t7: cen\n",
              "\t8: 2017-10-01 ... :00:00.000\n",
              "\t9: 6"
            ]
          },
          "metadata": {}
        },
        {
          "output_type": "display_data",
          "data": {
            "text/html": [
              "<pre>Successfully parsed 10 tokens: \n",
              "\t0: 735439\n",
              "\t1: [Genealogy ... t.\",,1947]\n",
              "\t2: \n",
              "\t3: Enloes family\n",
              "\t4: arbk\n",
              "\t5: caref\n",
              "\t6: \n",
              "\t7: cen\n",
              "\t8: 2017-11-01 ... :00:00.000\n",
              "\t9: 1</pre>"
            ],
            "text/plain": [
              "Successfully parsed 10 tokens: \n",
              "\t0: 735439\n",
              "\t1: [Genealogy ... t.\",,1947]\n",
              "\t2: \n",
              "\t3: Enloes family\n",
              "\t4: arbk\n",
              "\t5: caref\n",
              "\t6: \n",
              "\t7: cen\n",
              "\t8: 2017-11-01 ... :00:00.000\n",
              "\t9: 1"
            ]
          },
          "metadata": {}
        },
        {
          "output_type": "display_data",
          "data": {
            "text/html": [
              "<pre>Read 2532886 lines. Lines per second: 86609.4</pre>"
            ],
            "text/plain": [
              "Read 2532886 lines. Lines per second: 86609.4"
            ]
          },
          "metadata": {}
        },
        {
          "output_type": "display_data",
          "data": {
            "text/html": [
              "<pre>Successfully parsed 10 tokens: \n",
              "\t0: 28078\n",
              "\t1: [Papers.,\" ... 9)\",,1969]\n",
              "\t2: \n",
              "\t3: Genealogy Congresses\n",
              "\t4: arbk\n",
              "\t5: caref\n",
              "\t6: \n",
              "\t7: cen\n",
              "\t8: 2017-11-01 ... :00:00.000\n",
              "\t9: 6</pre>"
            ],
            "text/plain": [
              "Successfully parsed 10 tokens: \n",
              "\t0: 28078\n",
              "\t1: [Papers.,\" ... 9)\",,1969]\n",
              "\t2: \n",
              "\t3: Genealogy Congresses\n",
              "\t4: arbk\n",
              "\t5: caref\n",
              "\t6: \n",
              "\t7: cen\n",
              "\t8: 2017-11-01 ... :00:00.000\n",
              "\t9: 6"
            ]
          },
          "metadata": {}
        },
        {
          "output_type": "display_data",
          "data": {
            "text/html": [
              "<pre>Read 3007318 lines. Lines per second: 86711.8</pre>"
            ],
            "text/plain": [
              "Read 3007318 lines. Lines per second: 86711.8"
            ]
          },
          "metadata": {}
        },
        {
          "output_type": "display_data",
          "data": {
            "text/html": [
              "<pre>Read 3481381 lines. Lines per second: 86560.9</pre>"
            ],
            "text/plain": [
              "Read 3481381 lines. Lines per second: 86560.9"
            ]
          },
          "metadata": {}
        },
        {
          "output_type": "display_data",
          "data": {
            "text/html": [
              "<pre>Successfully parsed 9 tokens: \n",
              "\t0: 362786\n",
              "\t1: [Records., ... l Society]\n",
              "\t2: Registers  ... astchester\n",
              "\t3: arbk\n",
              "\t4: caref\n",
              "\t5: \n",
              "\t6: cen\n",
              "\t7: 2017-11-01 ... :00:00.000\n",
              "\t8: 1</pre>"
            ],
            "text/plain": [
              "Successfully parsed 9 tokens: \n",
              "\t0: 362786\n",
              "\t1: [Records., ... l Society]\n",
              "\t2: Registers  ... astchester\n",
              "\t3: arbk\n",
              "\t4: caref\n",
              "\t5: \n",
              "\t6: cen\n",
              "\t7: 2017-11-01 ... :00:00.000\n",
              "\t8: 1"
            ]
          },
          "metadata": {}
        },
        {
          "output_type": "display_data",
          "data": {
            "text/html": [
              "<pre>Read 3955167 lines. Lines per second: 86440.2</pre>"
            ],
            "text/plain": [
              "Read 3955167 lines. Lines per second: 86440.2"
            ]
          },
          "metadata": {}
        },
        {
          "output_type": "display_data",
          "data": {
            "text/html": [
              "<pre>Read 4437353 lines. Lines per second: 86399.2</pre>"
            ],
            "text/plain": [
              "Read 4437353 lines. Lines per second: 86399.2"
            ]
          },
          "metadata": {}
        },
        {
          "output_type": "display_data",
          "data": {
            "text/html": [
              "<pre>Read 4921517 lines. Lines per second: 86379.1</pre>"
            ],
            "text/plain": [
              "Read 4921517 lines. Lines per second: 86379.1"
            ]
          },
          "metadata": {}
        },
        {
          "output_type": "display_data",
          "data": {
            "text/html": [
              "<pre>Read 5405425 lines. Lines per second: 86321.8</pre>"
            ],
            "text/plain": [
              "Read 5405425 lines. Lines per second: 86321.8"
            ]
          },
          "metadata": {}
        },
        {
          "output_type": "display_data",
          "data": {
            "text/html": [
              "<pre>Read 5888741 lines. Lines per second: 86214.4</pre>"
            ],
            "text/plain": [
              "Read 5888741 lines. Lines per second: 86214.4"
            ]
          },
          "metadata": {}
        },
        {
          "output_type": "display_data",
          "data": {
            "text/html": [
              "<pre>Read 6372050 lines. Lines per second: 86072</pre>"
            ],
            "text/plain": [
              "Read 6372050 lines. Lines per second: 86072"
            ]
          },
          "metadata": {}
        },
        {
          "output_type": "display_data",
          "data": {
            "text/html": [
              "<pre>Read 6854771 lines. Lines per second: 85594.9</pre>"
            ],
            "text/plain": [
              "Read 6854771 lines. Lines per second: 85594.9"
            ]
          },
          "metadata": {}
        },
        {
          "output_type": "display_data",
          "data": {
            "text/html": [
              "<pre>Read 7336799 lines. Lines per second: 85511.6</pre>"
            ],
            "text/plain": [
              "Read 7336799 lines. Lines per second: 85511.6"
            ]
          },
          "metadata": {}
        },
        {
          "output_type": "display_data",
          "data": {
            "text/html": [
              "<pre>Read 7818996 lines. Lines per second: 85410.3</pre>"
            ],
            "text/plain": [
              "Read 7818996 lines. Lines per second: 85410.3"
            ]
          },
          "metadata": {}
        },
        {
          "output_type": "display_data",
          "data": {
            "text/html": [
              "<pre>Read 8300537 lines. Lines per second: 85268.6</pre>"
            ],
            "text/plain": [
              "Read 8300537 lines. Lines per second: 85268.6"
            ]
          },
          "metadata": {}
        },
        {
          "output_type": "display_data",
          "data": {
            "text/html": [
              "<pre>Read 8782147 lines. Lines per second: 85166.2</pre>"
            ],
            "text/plain": [
              "Read 8782147 lines. Lines per second: 85166.2"
            ]
          },
          "metadata": {}
        },
        {
          "output_type": "display_data",
          "data": {
            "text/html": [
              "<pre>Read 9263355 lines. Lines per second: 85060.5</pre>"
            ],
            "text/plain": [
              "Read 9263355 lines. Lines per second: 85060.5"
            ]
          },
          "metadata": {}
        },
        {
          "output_type": "display_data",
          "data": {
            "text/html": [
              "<pre>Read 9744360 lines. Lines per second: 84940.4</pre>"
            ],
            "text/plain": [
              "Read 9744360 lines. Lines per second: 84940.4"
            ]
          },
          "metadata": {}
        },
        {
          "output_type": "display_data",
          "data": {
            "text/html": [
              "<pre>Read 10225169 lines. Lines per second: 84831.9</pre>"
            ],
            "text/plain": [
              "Read 10225169 lines. Lines per second: 84831.9"
            ]
          },
          "metadata": {}
        },
        {
          "output_type": "display_data",
          "data": {
            "text/html": [
              "<pre>Read 10706084 lines. Lines per second: 84722.7</pre>"
            ],
            "text/plain": [
              "Read 10706084 lines. Lines per second: 84722.7"
            ]
          },
          "metadata": {}
        },
        {
          "output_type": "display_data",
          "data": {
            "text/html": [
              "<pre>Read 11186676 lines. Lines per second: 84618.7</pre>"
            ],
            "text/plain": [
              "Read 11186676 lines. Lines per second: 84618.7"
            ]
          },
          "metadata": {}
        },
        {
          "output_type": "display_data",
          "data": {
            "text/html": [
              "<pre>Read 11666922 lines. Lines per second: 84525.5</pre>"
            ],
            "text/plain": [
              "Read 11666922 lines. Lines per second: 84525.5"
            ]
          },
          "metadata": {}
        },
        {
          "output_type": "display_data",
          "data": {
            "text/html": [
              "<pre>Read 12146869 lines. Lines per second: 84423</pre>"
            ],
            "text/plain": [
              "Read 12146869 lines. Lines per second: 84423"
            ]
          },
          "metadata": {}
        },
        {
          "output_type": "display_data",
          "data": {
            "text/html": [
              "<pre>Read 12626390 lines. Lines per second: 84325.5</pre>"
            ],
            "text/plain": [
              "Read 12626390 lines. Lines per second: 84325.5"
            ]
          },
          "metadata": {}
        },
        {
          "output_type": "display_data",
          "data": {
            "text/html": [
              "<pre>Read 13105967 lines. Lines per second: 83717.7</pre>"
            ],
            "text/plain": [
              "Read 13105967 lines. Lines per second: 83717.7"
            ]
          },
          "metadata": {}
        },
        {
          "output_type": "display_data",
          "data": {
            "text/html": [
              "<pre>Read 13585401 lines. Lines per second: 83660.3</pre>"
            ],
            "text/plain": [
              "Read 13585401 lines. Lines per second: 83660.3"
            ]
          },
          "metadata": {}
        },
        {
          "output_type": "display_data",
          "data": {
            "text/html": [
              "<pre>Read 14064281 lines. Lines per second: 83595.5</pre>"
            ],
            "text/plain": [
              "Read 14064281 lines. Lines per second: 83595.5"
            ]
          },
          "metadata": {}
        },
        {
          "output_type": "display_data",
          "data": {
            "text/html": [
              "<pre>Read 14543355 lines. Lines per second: 83538.2</pre>"
            ],
            "text/plain": [
              "Read 14543355 lines. Lines per second: 83538.2"
            ]
          },
          "metadata": {}
        },
        {
          "output_type": "display_data",
          "data": {
            "text/html": [
              "<pre>Read 15022060 lines. Lines per second: 83478</pre>"
            ],
            "text/plain": [
              "Read 15022060 lines. Lines per second: 83478"
            ]
          },
          "metadata": {}
        },
        {
          "output_type": "display_data",
          "data": {
            "text/html": [
              "<pre>Read 15500452 lines. Lines per second: 83393.1</pre>"
            ],
            "text/plain": [
              "Read 15500452 lines. Lines per second: 83393.1"
            ]
          },
          "metadata": {}
        },
        {
          "output_type": "display_data",
          "data": {
            "text/html": [
              "<pre>Read 15978873 lines. Lines per second: 83336</pre>"
            ],
            "text/plain": [
              "Read 15978873 lines. Lines per second: 83336"
            ]
          },
          "metadata": {}
        },
        {
          "output_type": "display_data",
          "data": {
            "text/html": [
              "<pre>Read 16457329 lines. Lines per second: 83285.1</pre>"
            ],
            "text/plain": [
              "Read 16457329 lines. Lines per second: 83285.1"
            ]
          },
          "metadata": {}
        },
        {
          "output_type": "display_data",
          "data": {
            "text/html": [
              "<pre>Read 16936554 lines. Lines per second: 83019.2</pre>"
            ],
            "text/plain": [
              "Read 16936554 lines. Lines per second: 83019.2"
            ]
          },
          "metadata": {}
        },
        {
          "output_type": "display_data",
          "data": {
            "text/html": [
              "<pre>Read 17415198 lines. Lines per second: 82950.1</pre>"
            ],
            "text/plain": [
              "Read 17415198 lines. Lines per second: 82950.1"
            ]
          },
          "metadata": {}
        },
        {
          "output_type": "display_data",
          "data": {
            "text/html": [
              "<pre>Read 17894258 lines. Lines per second: 82848.4</pre>"
            ],
            "text/plain": [
              "Read 17894258 lines. Lines per second: 82848.4"
            ]
          },
          "metadata": {}
        },
        {
          "output_type": "display_data",
          "data": {
            "text/html": [
              "<pre>Read 18372819 lines. Lines per second: 82783.8</pre>"
            ],
            "text/plain": [
              "Read 18372819 lines. Lines per second: 82783.8"
            ]
          },
          "metadata": {}
        },
        {
          "output_type": "display_data",
          "data": {
            "text/html": [
              "<pre>Read 18851736 lines. Lines per second: 82740.9</pre>"
            ],
            "text/plain": [
              "Read 18851736 lines. Lines per second: 82740.9"
            ]
          },
          "metadata": {}
        },
        {
          "output_type": "display_data",
          "data": {
            "text/html": [
              "<pre>Read 19329570 lines. Lines per second: 82692.8</pre>"
            ],
            "text/plain": [
              "Read 19329570 lines. Lines per second: 82692.8"
            ]
          },
          "metadata": {}
        },
        {
          "output_type": "display_data",
          "data": {
            "text/html": [
              "<pre>Read 19807724 lines. Lines per second: 82649.9</pre>"
            ],
            "text/plain": [
              "Read 19807724 lines. Lines per second: 82649.9"
            ]
          },
          "metadata": {}
        },
        {
          "output_type": "display_data",
          "data": {
            "text/html": [
              "<pre>Read 20285070 lines. Lines per second: 82614.4</pre>"
            ],
            "text/plain": [
              "Read 20285070 lines. Lines per second: 82614.4"
            ]
          },
          "metadata": {}
        },
        {
          "output_type": "display_data",
          "data": {
            "text/html": [
              "<pre>Read 20761835 lines. Lines per second: 72482.5</pre>"
            ],
            "text/plain": [
              "Read 20761835 lines. Lines per second: 72482.5"
            ]
          },
          "metadata": {}
        },
        {
          "output_type": "display_data",
          "data": {
            "text/html": [
              "<pre>Read 21079789 lines. Lines per second: 72071.5</pre>"
            ],
            "text/plain": [
              "Read 21079789 lines. Lines per second: 72071.5"
            ]
          },
          "metadata": {}
        },
        {
          "output_type": "display_data",
          "data": {
            "text/html": [
              "<pre>Read 21556704 lines. Lines per second: 72235.4</pre>"
            ],
            "text/plain": [
              "Read 21556704 lines. Lines per second: 72235.4"
            ]
          },
          "metadata": {}
        },
        {
          "output_type": "display_data",
          "data": {
            "text/html": [
              "<pre>Read 22032463 lines. Lines per second: 72353</pre>"
            ],
            "text/plain": [
              "Read 22032463 lines. Lines per second: 72353"
            ]
          },
          "metadata": {}
        },
        {
          "output_type": "display_data",
          "data": {
            "text/html": [
              "<pre>Read 22509210 lines. Lines per second: 72498.3</pre>"
            ],
            "text/plain": [
              "Read 22509210 lines. Lines per second: 72498.3"
            ]
          },
          "metadata": {}
        },
        {
          "output_type": "display_data",
          "data": {
            "text/html": [
              "<pre>Read 22985600 lines. Lines per second: 72627</pre>"
            ],
            "text/plain": [
              "Read 22985600 lines. Lines per second: 72627"
            ]
          },
          "metadata": {}
        },
        {
          "output_type": "display_data",
          "data": {
            "text/html": [
              "<pre>Read 23461186 lines. Lines per second: 72752.7</pre>"
            ],
            "text/plain": [
              "Read 23461186 lines. Lines per second: 72752.7"
            ]
          },
          "metadata": {}
        },
        {
          "output_type": "display_data",
          "data": {
            "text/html": [
              "<pre>Read 23936996 lines. Lines per second: 72852.8</pre>"
            ],
            "text/plain": [
              "Read 23936996 lines. Lines per second: 72852.8"
            ]
          },
          "metadata": {}
        },
        {
          "output_type": "display_data",
          "data": {
            "text/html": [
              "<pre>Read 24412122 lines. Lines per second: 72963.7</pre>"
            ],
            "text/plain": [
              "Read 24412122 lines. Lines per second: 72963.7"
            ]
          },
          "metadata": {}
        },
        {
          "output_type": "display_data",
          "data": {
            "text/html": [
              "<pre>Read 24887351 lines. Lines per second: 73065.8</pre>"
            ],
            "text/plain": [
              "Read 24887351 lines. Lines per second: 73065.8"
            ]
          },
          "metadata": {}
        },
        {
          "output_type": "display_data",
          "data": {
            "text/html": [
              "<pre>Read 25362401 lines. Lines per second: 73172.9</pre>"
            ],
            "text/plain": [
              "Read 25362401 lines. Lines per second: 73172.9"
            ]
          },
          "metadata": {}
        },
        {
          "output_type": "display_data",
          "data": {
            "text/html": [
              "<pre>Read 25836643 lines. Lines per second: 73255.9</pre>"
            ],
            "text/plain": [
              "Read 25836643 lines. Lines per second: 73255.9"
            ]
          },
          "metadata": {}
        },
        {
          "output_type": "display_data",
          "data": {
            "text/html": [
              "<pre>Read 26311136 lines. Lines per second: 73329.5</pre>"
            ],
            "text/plain": [
              "Read 26311136 lines. Lines per second: 73329.5"
            ]
          },
          "metadata": {}
        },
        {
          "output_type": "display_data",
          "data": {
            "text/html": [
              "<pre>Read 26785396 lines. Lines per second: 73415</pre>"
            ],
            "text/plain": [
              "Read 26785396 lines. Lines per second: 73415"
            ]
          },
          "metadata": {}
        },
        {
          "output_type": "display_data",
          "data": {
            "text/html": [
              "<pre>Read 27259263 lines. Lines per second: 73471.8</pre>"
            ],
            "text/plain": [
              "Read 27259263 lines. Lines per second: 73471.8"
            ]
          },
          "metadata": {}
        },
        {
          "output_type": "display_data",
          "data": {
            "text/html": [
              "<pre>Read 27733054 lines. Lines per second: 73551.8</pre>"
            ],
            "text/plain": [
              "Read 27733054 lines. Lines per second: 73551.8"
            ]
          },
          "metadata": {}
        },
        {
          "output_type": "display_data",
          "data": {
            "text/html": [
              "<pre>Read 28205409 lines. Lines per second: 73611.3</pre>"
            ],
            "text/plain": [
              "Read 28205409 lines. Lines per second: 73611.3"
            ]
          },
          "metadata": {}
        },
        {
          "output_type": "display_data",
          "data": {
            "text/html": [
              "<pre>Read 28669987 lines. Lines per second: 73562.2</pre>"
            ],
            "text/plain": [
              "Read 28669987 lines. Lines per second: 73562.2"
            ]
          },
          "metadata": {}
        },
        {
          "output_type": "display_data",
          "data": {
            "text/html": [
              "<pre>Read 29134252 lines. Lines per second: 73621.6</pre>"
            ],
            "text/plain": [
              "Read 29134252 lines. Lines per second: 73621.6"
            ]
          },
          "metadata": {}
        },
        {
          "output_type": "display_data",
          "data": {
            "text/html": [
              "<pre>Successfully parsed 10 tokens: \n",
              "\t0: 332256\n",
              "\t1: [Souvenir  ... )\",,1930?]\n",
              "\t2: Lumbermen' ... rint. Co.,\n",
              "\t3: \n",
              "\t4: arbk\n",
              "\t5: casea\n",
              "\t6: \n",
              "\t7: cen\n",
              "\t8: 2019-07-01 ... :00:00.000\n",
              "\t9: 1</pre>"
            ],
            "text/plain": [
              "Successfully parsed 10 tokens: \n",
              "\t0: 332256\n",
              "\t1: [Souvenir  ... )\",,1930?]\n",
              "\t2: Lumbermen' ... rint. Co.,\n",
              "\t3: \n",
              "\t4: arbk\n",
              "\t5: casea\n",
              "\t6: \n",
              "\t7: cen\n",
              "\t8: 2019-07-01 ... :00:00.000\n",
              "\t9: 1"
            ]
          },
          "metadata": {}
        },
        {
          "output_type": "display_data",
          "data": {
            "text/html": [
              "<pre>Read 29599175 lines. Lines per second: 73658.9</pre>"
            ],
            "text/plain": [
              "Read 29599175 lines. Lines per second: 73658.9"
            ]
          },
          "metadata": {}
        },
        {
          "output_type": "display_data",
          "data": {
            "text/html": [
              "<pre>Read 30062536 lines. Lines per second: 73706.3</pre>"
            ],
            "text/plain": [
              "Read 30062536 lines. Lines per second: 73706.3"
            ]
          },
          "metadata": {}
        },
        {
          "output_type": "display_data",
          "data": {
            "text/html": [
              "<pre>Read 30525807 lines. Lines per second: 73755.1</pre>"
            ],
            "text/plain": [
              "Read 30525807 lines. Lines per second: 73755.1"
            ]
          },
          "metadata": {}
        },
        {
          "output_type": "display_data",
          "data": {
            "text/html": [
              "<pre>Read 30988998 lines. Lines per second: 73784.5</pre>"
            ],
            "text/plain": [
              "Read 30988998 lines. Lines per second: 73784.5"
            ]
          },
          "metadata": {}
        },
        {
          "output_type": "display_data",
          "data": {
            "text/html": [
              "<pre>Read 31453271 lines. Lines per second: 73812.8</pre>"
            ],
            "text/plain": [
              "Read 31453271 lines. Lines per second: 73812.8"
            ]
          },
          "metadata": {}
        },
        {
          "output_type": "display_data",
          "data": {
            "text/html": [
              "<pre>Read 31917620 lines. Lines per second: 73850.2</pre>"
            ],
            "text/plain": [
              "Read 31917620 lines. Lines per second: 73850.2"
            ]
          },
          "metadata": {}
        },
        {
          "output_type": "display_data",
          "data": {
            "text/html": [
              "<pre>Read 32382098 lines. Lines per second: 73885.9</pre>"
            ],
            "text/plain": [
              "Read 32382098 lines. Lines per second: 73885.9"
            ]
          },
          "metadata": {}
        },
        {
          "output_type": "display_data",
          "data": {
            "text/html": [
              "<pre>Read 32845822 lines. Lines per second: 73922.5</pre>"
            ],
            "text/plain": [
              "Read 32845822 lines. Lines per second: 73922.5"
            ]
          },
          "metadata": {}
        },
        {
          "output_type": "display_data",
          "data": {
            "text/html": [
              "<pre>Read 33309009 lines. Lines per second: 73944.4</pre>"
            ],
            "text/plain": [
              "Read 33309009 lines. Lines per second: 73944.4"
            ]
          },
          "metadata": {}
        },
        {
          "output_type": "display_data",
          "data": {
            "text/html": [
              "<pre>Read 33772148 lines. Lines per second: 73984.2</pre>"
            ],
            "text/plain": [
              "Read 33772148 lines. Lines per second: 73984.2"
            ]
          },
          "metadata": {}
        },
        {
          "output_type": "display_data",
          "data": {
            "text/html": [
              "<pre>Read 34235739 lines. Lines per second: 74007.4</pre>"
            ],
            "text/plain": [
              "Read 34235739 lines. Lines per second: 74007.4"
            ]
          },
          "metadata": {}
        },
        {
          "output_type": "display_data",
          "data": {
            "text/html": [
              "<pre>Read 34698812 lines. Lines per second: 74038.6</pre>"
            ],
            "text/plain": [
              "Read 34698812 lines. Lines per second: 74038.6"
            ]
          },
          "metadata": {}
        },
        {
          "output_type": "display_data",
          "data": {
            "text/html": [
              "<pre>Read 35161548 lines. Lines per second: 74061.9</pre>"
            ],
            "text/plain": [
              "Read 35161548 lines. Lines per second: 74061.9"
            ]
          },
          "metadata": {}
        },
        {
          "output_type": "display_data",
          "data": {
            "text/html": [
              "<pre>14 lines failed to parse correctly</pre>"
            ],
            "text/plain": [
              "14 lines failed to parse correctly"
            ]
          },
          "metadata": {}
        },
        {
          "output_type": "display_data",
          "data": {
            "text/html": [
              "<pre>Finished parsing file /content/datasets/library-collection/library-collection-inventory.csv</pre>"
            ],
            "text/plain": [
              "Finished parsing file /content/datasets/library-collection/library-collection-inventory.csv"
            ]
          },
          "metadata": {}
        },
        {
          "output_type": "display_data",
          "data": {
            "text/html": [
              "<pre>Parsing completed. Parsed 35531294 lines in 477.941 secs.</pre>"
            ],
            "text/plain": [
              "Parsing completed. Parsed 35531294 lines in 477.941 secs."
            ]
          },
          "metadata": {}
        },
        {
          "output_type": "execute_result",
          "data": {
            "text/html": [
              "<div style=\"max-height:1000px;max-width:1500px;overflow:auto;\"><table frame=\"box\" rules=\"cols\">\n",
              "    <tr>\n",
              "        <th style=\"padding-left: 1em; padding-right: 1em; text-align: center\">BibNum</th>\n",
              "        <th style=\"padding-left: 1em; padding-right: 1em; text-align: center\">Title</th>\n",
              "        <th style=\"padding-left: 1em; padding-right: 1em; text-align: center\">Author</th>\n",
              "        <th style=\"padding-left: 1em; padding-right: 1em; text-align: center\">ISBN</th>\n",
              "        <th style=\"padding-left: 1em; padding-right: 1em; text-align: center\">PublicationYear</th>\n",
              "    </tr>\n",
              "    <tr>\n",
              "        <td style=\"padding-left: 1em; padding-right: 1em; text-align: center; vertical-align: top\">3011076</td>\n",
              "        <td style=\"padding-left: 1em; padding-right: 1em; text-align: center; vertical-align: top\">A tale of two friends /<br>adapted by Ellie O&#x27;Ry ...</td>\n",
              "        <td style=\"padding-left: 1em; padding-right: 1em; text-align: center; vertical-align: top\">O&#x27;Ryan, Ellie</td>\n",
              "        <td style=\"padding-left: 1em; padding-right: 1em; text-align: center; vertical-align: top\">1481425730, 1481425749,<br>9781481425735, ...</td>\n",
              "        <td style=\"padding-left: 1em; padding-right: 1em; text-align: center; vertical-align: top\">2014.</td>\n",
              "    </tr>\n",
              "    <tr>\n",
              "        <td style=\"padding-left: 1em; padding-right: 1em; text-align: center; vertical-align: top\">2248846</td>\n",
              "        <td style=\"padding-left: 1em; padding-right: 1em; text-align: center; vertical-align: top\">Naruto. Vol. 1, Uzumaki<br>Naruto / story and ar ...</td>\n",
              "        <td style=\"padding-left: 1em; padding-right: 1em; text-align: center; vertical-align: top\">Kishimoto, Masashi, 1974-</td>\n",
              "        <td style=\"padding-left: 1em; padding-right: 1em; text-align: center; vertical-align: top\">1569319006</td>\n",
              "        <td style=\"padding-left: 1em; padding-right: 1em; text-align: center; vertical-align: top\">2003, c1999.</td>\n",
              "    </tr>\n",
              "    <tr>\n",
              "        <td style=\"padding-left: 1em; padding-right: 1em; text-align: center; vertical-align: top\">3209270</td>\n",
              "        <td style=\"padding-left: 1em; padding-right: 1em; text-align: center; vertical-align: top\">Peace, love &amp; Wi-Fi : a<br>ZITS treasury / by Jerry ...</td>\n",
              "        <td style=\"padding-left: 1em; padding-right: 1em; text-align: center; vertical-align: top\">Scott, Jerry, 1955-</td>\n",
              "        <td style=\"padding-left: 1em; padding-right: 1em; text-align: center; vertical-align: top\">144945867X, 9781449458676</td>\n",
              "        <td style=\"padding-left: 1em; padding-right: 1em; text-align: center; vertical-align: top\">2014.</td>\n",
              "    </tr>\n",
              "    <tr>\n",
              "        <td style=\"padding-left: 1em; padding-right: 1em; text-align: center; vertical-align: top\">1907265</td>\n",
              "        <td style=\"padding-left: 1em; padding-right: 1em; text-align: center; vertical-align: top\">The Paris pilgrims : a<br>novel / Clancy Carlile. ...</td>\n",
              "        <td style=\"padding-left: 1em; padding-right: 1em; text-align: center; vertical-align: top\">Carlile, Clancy, 1930-</td>\n",
              "        <td style=\"padding-left: 1em; padding-right: 1em; text-align: center; vertical-align: top\">0786706155</td>\n",
              "        <td style=\"padding-left: 1em; padding-right: 1em; text-align: center; vertical-align: top\">c1999.</td>\n",
              "    </tr>\n",
              "    <tr>\n",
              "        <td style=\"padding-left: 1em; padding-right: 1em; text-align: center; vertical-align: top\">1644616</td>\n",
              "        <td style=\"padding-left: 1em; padding-right: 1em; text-align: center; vertical-align: top\">Erotic by nature : a<br>celebration of life, of ...</td>\n",
              "        <td style=\"padding-left: 1em; padding-right: 1em; text-align: center; vertical-align: top\"></td>\n",
              "        <td style=\"padding-left: 1em; padding-right: 1em; text-align: center; vertical-align: top\">094020813X</td>\n",
              "        <td style=\"padding-left: 1em; padding-right: 1em; text-align: center; vertical-align: top\">1991, c1988.</td>\n",
              "    </tr>\n",
              "    <tr>\n",
              "        <td style=\"padding-left: 1em; padding-right: 1em; text-align: center; vertical-align: top\">1736505</td>\n",
              "        <td style=\"padding-left: 1em; padding-right: 1em; text-align: center; vertical-align: top\">Children of Cambodia&#x27;s<br>killing fields : memoirs ...</td>\n",
              "        <td style=\"padding-left: 1em; padding-right: 1em; text-align: center; vertical-align: top\"></td>\n",
              "        <td style=\"padding-left: 1em; padding-right: 1em; text-align: center; vertical-align: top\">0300068395, 0300078730</td>\n",
              "        <td style=\"padding-left: 1em; padding-right: 1em; text-align: center; vertical-align: top\">c1997.</td>\n",
              "    </tr>\n",
              "    <tr>\n",
              "        <td style=\"padding-left: 1em; padding-right: 1em; text-align: center; vertical-align: top\">1749492</td>\n",
              "        <td style=\"padding-left: 1em; padding-right: 1em; text-align: center; vertical-align: top\">Anti-Zionism : analytical<br>reflections / editors: ...</td>\n",
              "        <td style=\"padding-left: 1em; padding-right: 1em; text-align: center; vertical-align: top\"></td>\n",
              "        <td style=\"padding-left: 1em; padding-right: 1em; text-align: center; vertical-align: top\">091559773X</td>\n",
              "        <td style=\"padding-left: 1em; padding-right: 1em; text-align: center; vertical-align: top\">c1989.</td>\n",
              "    </tr>\n",
              "    <tr>\n",
              "        <td style=\"padding-left: 1em; padding-right: 1em; text-align: center; vertical-align: top\">3270562</td>\n",
              "        <td style=\"padding-left: 1em; padding-right: 1em; text-align: center; vertical-align: top\">Hard-hearted Highlander /<br>Julia London. ...</td>\n",
              "        <td style=\"padding-left: 1em; padding-right: 1em; text-align: center; vertical-align: top\">London, Julia</td>\n",
              "        <td style=\"padding-left: 1em; padding-right: 1em; text-align: center; vertical-align: top\">0373789998, 037380394X,<br>9780373789993, ...</td>\n",
              "        <td style=\"padding-left: 1em; padding-right: 1em; text-align: center; vertical-align: top\">[2017]</td>\n",
              "    </tr>\n",
              "    <tr>\n",
              "        <td style=\"padding-left: 1em; padding-right: 1em; text-align: center; vertical-align: top\">3264577</td>\n",
              "        <td style=\"padding-left: 1em; padding-right: 1em; text-align: center; vertical-align: top\">The Sandcastle Empire /<br>Kayla Olson. ...</td>\n",
              "        <td style=\"padding-left: 1em; padding-right: 1em; text-align: center; vertical-align: top\">Olson, Kayla</td>\n",
              "        <td style=\"padding-left: 1em; padding-right: 1em; text-align: center; vertical-align: top\">0062484877, 9780062484871</td>\n",
              "        <td style=\"padding-left: 1em; padding-right: 1em; text-align: center; vertical-align: top\">2017.</td>\n",
              "    </tr>\n",
              "    <tr>\n",
              "        <td style=\"padding-left: 1em; padding-right: 1em; text-align: center; vertical-align: top\">3236819</td>\n",
              "        <td style=\"padding-left: 1em; padding-right: 1em; text-align: center; vertical-align: top\">Doctor Who. The return of<br>Doctor Mysterio / BBC ; ...</td>\n",
              "        <td style=\"padding-left: 1em; padding-right: 1em; text-align: center; vertical-align: top\"></td>\n",
              "        <td style=\"padding-left: 1em; padding-right: 1em; text-align: center; vertical-align: top\"></td>\n",
              "        <td style=\"padding-left: 1em; padding-right: 1em; text-align: center; vertical-align: top\">[2017]</td>\n",
              "    </tr>\n",
              "</table>\n",
              "<table frame=\"box\" rules=\"cols\">\n",
              "    <tr>\n",
              "        <th style=\"padding-left: 1em; padding-right: 1em; text-align: center\">Publisher</th>\n",
              "        <th style=\"padding-left: 1em; padding-right: 1em; text-align: center\">Subjects</th>\n",
              "        <th style=\"padding-left: 1em; padding-right: 1em; text-align: center\">ItemType</th>\n",
              "        <th style=\"padding-left: 1em; padding-right: 1em; text-align: center\">ItemCollection</th>\n",
              "        <th style=\"padding-left: 1em; padding-right: 1em; text-align: center\">FloatingItem</th>\n",
              "        <th style=\"padding-left: 1em; padding-right: 1em; text-align: center\">ItemLocation</th>\n",
              "    </tr>\n",
              "    <tr>\n",
              "        <td style=\"padding-left: 1em; padding-right: 1em; text-align: center; vertical-align: top\">Simon Spotlight,</td>\n",
              "        <td style=\"padding-left: 1em; padding-right: 1em; text-align: center; vertical-align: top\">Musicians Fiction,<br>Bullfighters Fiction, ...</td>\n",
              "        <td style=\"padding-left: 1em; padding-right: 1em; text-align: center; vertical-align: top\">jcbk</td>\n",
              "        <td style=\"padding-left: 1em; padding-right: 1em; text-align: center; vertical-align: top\">ncrdr</td>\n",
              "        <td style=\"padding-left: 1em; padding-right: 1em; text-align: center; vertical-align: top\">Floating</td>\n",
              "        <td style=\"padding-left: 1em; padding-right: 1em; text-align: center; vertical-align: top\">qna</td>\n",
              "    </tr>\n",
              "    <tr>\n",
              "        <td style=\"padding-left: 1em; padding-right: 1em; text-align: center; vertical-align: top\">Viz,</td>\n",
              "        <td style=\"padding-left: 1em; padding-right: 1em; text-align: center; vertical-align: top\">Ninja Japan Comic books<br>strips etc, Comic books ...</td>\n",
              "        <td style=\"padding-left: 1em; padding-right: 1em; text-align: center; vertical-align: top\">acbk</td>\n",
              "        <td style=\"padding-left: 1em; padding-right: 1em; text-align: center; vertical-align: top\">nycomic</td>\n",
              "        <td style=\"padding-left: 1em; padding-right: 1em; text-align: center; vertical-align: top\">None</td>\n",
              "        <td style=\"padding-left: 1em; padding-right: 1em; text-align: center; vertical-align: top\">lcy</td>\n",
              "    </tr>\n",
              "    <tr>\n",
              "        <td style=\"padding-left: 1em; padding-right: 1em; text-align: center; vertical-align: top\">Andrews McMeel<br>Publishing, ...</td>\n",
              "        <td style=\"padding-left: 1em; padding-right: 1em; text-align: center; vertical-align: top\">Duncan Jeremy Fictitious<br>character Comic books ...</td>\n",
              "        <td style=\"padding-left: 1em; padding-right: 1em; text-align: center; vertical-align: top\">acbk</td>\n",
              "        <td style=\"padding-left: 1em; padding-right: 1em; text-align: center; vertical-align: top\">nycomic</td>\n",
              "        <td style=\"padding-left: 1em; padding-right: 1em; text-align: center; vertical-align: top\">None</td>\n",
              "        <td style=\"padding-left: 1em; padding-right: 1em; text-align: center; vertical-align: top\">bea</td>\n",
              "    </tr>\n",
              "    <tr>\n",
              "        <td style=\"padding-left: 1em; padding-right: 1em; text-align: center; vertical-align: top\">Carroll &amp; Graf,</td>\n",
              "        <td style=\"padding-left: 1em; padding-right: 1em; text-align: center; vertical-align: top\">Hemingway Ernest 1899<br>1961 Fiction, ...</td>\n",
              "        <td style=\"padding-left: 1em; padding-right: 1em; text-align: center; vertical-align: top\">acbk</td>\n",
              "        <td style=\"padding-left: 1em; padding-right: 1em; text-align: center; vertical-align: top\">cafic</td>\n",
              "        <td style=\"padding-left: 1em; padding-right: 1em; text-align: center; vertical-align: top\">None</td>\n",
              "        <td style=\"padding-left: 1em; padding-right: 1em; text-align: center; vertical-align: top\">cen</td>\n",
              "    </tr>\n",
              "    <tr>\n",
              "        <td style=\"padding-left: 1em; padding-right: 1em; text-align: center; vertical-align: top\">Red Alder Books/Down<br>There Press, ...</td>\n",
              "        <td style=\"padding-left: 1em; padding-right: 1em; text-align: center; vertical-align: top\">Erotic literature<br>American, American ...</td>\n",
              "        <td style=\"padding-left: 1em; padding-right: 1em; text-align: center; vertical-align: top\">acbk</td>\n",
              "        <td style=\"padding-left: 1em; padding-right: 1em; text-align: center; vertical-align: top\">canf</td>\n",
              "        <td style=\"padding-left: 1em; padding-right: 1em; text-align: center; vertical-align: top\">None</td>\n",
              "        <td style=\"padding-left: 1em; padding-right: 1em; text-align: center; vertical-align: top\">cen</td>\n",
              "    </tr>\n",
              "    <tr>\n",
              "        <td style=\"padding-left: 1em; padding-right: 1em; text-align: center; vertical-align: top\">Yale University Press,</td>\n",
              "        <td style=\"padding-left: 1em; padding-right: 1em; text-align: center; vertical-align: top\">Political atrocities<br>Cambodia, Children ...</td>\n",
              "        <td style=\"padding-left: 1em; padding-right: 1em; text-align: center; vertical-align: top\">acbk</td>\n",
              "        <td style=\"padding-left: 1em; padding-right: 1em; text-align: center; vertical-align: top\">canf</td>\n",
              "        <td style=\"padding-left: 1em; padding-right: 1em; text-align: center; vertical-align: top\">None</td>\n",
              "        <td style=\"padding-left: 1em; padding-right: 1em; text-align: center; vertical-align: top\">cen</td>\n",
              "    </tr>\n",
              "    <tr>\n",
              "        <td style=\"padding-left: 1em; padding-right: 1em; text-align: center; vertical-align: top\">Amana Books,</td>\n",
              "        <td style=\"padding-left: 1em; padding-right: 1em; text-align: center; vertical-align: top\">Berger Elmer 1908 1996,<br>Zionism Controversial ...</td>\n",
              "        <td style=\"padding-left: 1em; padding-right: 1em; text-align: center; vertical-align: top\">acbk</td>\n",
              "        <td style=\"padding-left: 1em; padding-right: 1em; text-align: center; vertical-align: top\">canf</td>\n",
              "        <td style=\"padding-left: 1em; padding-right: 1em; text-align: center; vertical-align: top\">None</td>\n",
              "        <td style=\"padding-left: 1em; padding-right: 1em; text-align: center; vertical-align: top\">cen</td>\n",
              "    </tr>\n",
              "    <tr>\n",
              "        <td style=\"padding-left: 1em; padding-right: 1em; text-align: center; vertical-align: top\">HQN,</td>\n",
              "        <td style=\"padding-left: 1em; padding-right: 1em; text-align: center; vertical-align: top\">Man woman relationships<br>Fiction, Betrothal ...</td>\n",
              "        <td style=\"padding-left: 1em; padding-right: 1em; text-align: center; vertical-align: top\">acbk</td>\n",
              "        <td style=\"padding-left: 1em; padding-right: 1em; text-align: center; vertical-align: top\">nanew</td>\n",
              "        <td style=\"padding-left: 1em; padding-right: 1em; text-align: center; vertical-align: top\">None</td>\n",
              "        <td style=\"padding-left: 1em; padding-right: 1em; text-align: center; vertical-align: top\">lcy</td>\n",
              "    </tr>\n",
              "    <tr>\n",
              "        <td style=\"padding-left: 1em; padding-right: 1em; text-align: center; vertical-align: top\">HarperTeen,</td>\n",
              "        <td style=\"padding-left: 1em; padding-right: 1em; text-align: center; vertical-align: top\">Survival Juvenile<br>fiction, Islands Juve ...</td>\n",
              "        <td style=\"padding-left: 1em; padding-right: 1em; text-align: center; vertical-align: top\">acbk</td>\n",
              "        <td style=\"padding-left: 1em; padding-right: 1em; text-align: center; vertical-align: top\">nynew</td>\n",
              "        <td style=\"padding-left: 1em; padding-right: 1em; text-align: center; vertical-align: top\">None</td>\n",
              "        <td style=\"padding-left: 1em; padding-right: 1em; text-align: center; vertical-align: top\">nga</td>\n",
              "    </tr>\n",
              "    <tr>\n",
              "        <td style=\"padding-left: 1em; padding-right: 1em; text-align: center; vertical-align: top\">BBC Worldwide,</td>\n",
              "        <td style=\"padding-left: 1em; padding-right: 1em; text-align: center; vertical-align: top\">Doctor Fictitious<br>character Drama, Time ...</td>\n",
              "        <td style=\"padding-left: 1em; padding-right: 1em; text-align: center; vertical-align: top\">acdvd</td>\n",
              "        <td style=\"padding-left: 1em; padding-right: 1em; text-align: center; vertical-align: top\">nadvd</td>\n",
              "        <td style=\"padding-left: 1em; padding-right: 1em; text-align: center; vertical-align: top\">Floating</td>\n",
              "        <td style=\"padding-left: 1em; padding-right: 1em; text-align: center; vertical-align: top\">wts</td>\n",
              "    </tr>\n",
              "</table>\n",
              "<table frame=\"box\" rules=\"cols\">\n",
              "    <tr>\n",
              "        <th style=\"padding-left: 1em; padding-right: 1em; text-align: center\">ReportDate</th>\n",
              "        <th style=\"padding-left: 1em; padding-right: 1em; text-align: center\">ItemCount</th>\n",
              "    </tr>\n",
              "    <tr>\n",
              "        <td style=\"padding-left: 1em; padding-right: 1em; text-align: center; vertical-align: top\">2017-09-01T00:00:00.000</td>\n",
              "        <td style=\"padding-left: 1em; padding-right: 1em; text-align: center; vertical-align: top\">1</td>\n",
              "    </tr>\n",
              "    <tr>\n",
              "        <td style=\"padding-left: 1em; padding-right: 1em; text-align: center; vertical-align: top\">2017-09-01T00:00:00.000</td>\n",
              "        <td style=\"padding-left: 1em; padding-right: 1em; text-align: center; vertical-align: top\">1</td>\n",
              "    </tr>\n",
              "    <tr>\n",
              "        <td style=\"padding-left: 1em; padding-right: 1em; text-align: center; vertical-align: top\">2017-09-01T00:00:00.000</td>\n",
              "        <td style=\"padding-left: 1em; padding-right: 1em; text-align: center; vertical-align: top\">1</td>\n",
              "    </tr>\n",
              "    <tr>\n",
              "        <td style=\"padding-left: 1em; padding-right: 1em; text-align: center; vertical-align: top\">2017-09-01T00:00:00.000</td>\n",
              "        <td style=\"padding-left: 1em; padding-right: 1em; text-align: center; vertical-align: top\">1</td>\n",
              "    </tr>\n",
              "    <tr>\n",
              "        <td style=\"padding-left: 1em; padding-right: 1em; text-align: center; vertical-align: top\">2017-09-01T00:00:00.000</td>\n",
              "        <td style=\"padding-left: 1em; padding-right: 1em; text-align: center; vertical-align: top\">1</td>\n",
              "    </tr>\n",
              "    <tr>\n",
              "        <td style=\"padding-left: 1em; padding-right: 1em; text-align: center; vertical-align: top\">2017-09-01T00:00:00.000</td>\n",
              "        <td style=\"padding-left: 1em; padding-right: 1em; text-align: center; vertical-align: top\">1</td>\n",
              "    </tr>\n",
              "    <tr>\n",
              "        <td style=\"padding-left: 1em; padding-right: 1em; text-align: center; vertical-align: top\">2017-09-01T00:00:00.000</td>\n",
              "        <td style=\"padding-left: 1em; padding-right: 1em; text-align: center; vertical-align: top\">1</td>\n",
              "    </tr>\n",
              "    <tr>\n",
              "        <td style=\"padding-left: 1em; padding-right: 1em; text-align: center; vertical-align: top\">2017-09-01T00:00:00.000</td>\n",
              "        <td style=\"padding-left: 1em; padding-right: 1em; text-align: center; vertical-align: top\">1</td>\n",
              "    </tr>\n",
              "    <tr>\n",
              "        <td style=\"padding-left: 1em; padding-right: 1em; text-align: center; vertical-align: top\">2017-09-01T00:00:00.000</td>\n",
              "        <td style=\"padding-left: 1em; padding-right: 1em; text-align: center; vertical-align: top\">1</td>\n",
              "    </tr>\n",
              "    <tr>\n",
              "        <td style=\"padding-left: 1em; padding-right: 1em; text-align: center; vertical-align: top\">2017-09-01T00:00:00.000</td>\n",
              "        <td style=\"padding-left: 1em; padding-right: 1em; text-align: center; vertical-align: top\">2</td>\n",
              "    </tr>\n",
              "</table>\n",
              "[35531294 rows x 13 columns]<br/>Note: Only the head of the SFrame is printed.<br/>You can use print_rows(num_rows=m, num_columns=n) to print more rows and columns.\n",
              "</div>"
            ],
            "text/plain": [
              "Columns:\n",
              "\tBibNum\tint\n",
              "\tTitle\tstr\n",
              "\tAuthor\tstr\n",
              "\tISBN\tstr\n",
              "\tPublicationYear\tstr\n",
              "\tPublisher\tstr\n",
              "\tSubjects\tstr\n",
              "\tItemType\tstr\n",
              "\tItemCollection\tstr\n",
              "\tFloatingItem\tstr\n",
              "\tItemLocation\tstr\n",
              "\tReportDate\tstr\n",
              "\tItemCount\tint\n",
              "\n",
              "Rows: 35531294\n",
              "\n",
              "Data:\n",
              "+---------+-------------------------------+---------------------------+\n",
              "|  BibNum |             Title             |           Author          |\n",
              "+---------+-------------------------------+---------------------------+\n",
              "| 3011076 | A tale of two friends / ad... |       O'Ryan, Ellie       |\n",
              "| 2248846 | Naruto. Vol. 1, Uzumaki Na... | Kishimoto, Masashi, 1974- |\n",
              "| 3209270 | Peace, love & Wi-Fi : a ZI... |    Scott, Jerry, 1955-    |\n",
              "| 1907265 | The Paris pilgrims : a nov... |   Carlile, Clancy, 1930-  |\n",
              "| 1644616 | Erotic by nature : a celeb... |                           |\n",
              "| 1736505 | Children of Cambodia's kil... |                           |\n",
              "| 1749492 | Anti-Zionism : analytical ... |                           |\n",
              "| 3270562 | Hard-hearted Highlander / ... |       London, Julia       |\n",
              "| 3264577 | The Sandcastle Empire / Ka... |        Olson, Kayla       |\n",
              "| 3236819 | Doctor Who. The return of ... |                           |\n",
              "+---------+-------------------------------+---------------------------+\n",
              "+-------------------------------+-----------------+\n",
              "|              ISBN             | PublicationYear |\n",
              "+-------------------------------+-----------------+\n",
              "| 1481425730, 1481425749, 97... |      2014.      |\n",
              "|           1569319006          |   2003, c1999.  |\n",
              "|   144945867X, 9781449458676   |      2014.      |\n",
              "|           0786706155          |      c1999.     |\n",
              "|           094020813X          |   1991, c1988.  |\n",
              "|     0300068395, 0300078730    |      c1997.     |\n",
              "|           091559773X          |      c1989.     |\n",
              "| 0373789998, 037380394X, 97... |      [2017]     |\n",
              "|   0062484877, 9780062484871   |      2017.      |\n",
              "|                               |      [2017]     |\n",
              "+-------------------------------+-----------------+\n",
              "+-------------------------------+-------------------------------+----------+\n",
              "|           Publisher           |            Subjects           | ItemType |\n",
              "+-------------------------------+-------------------------------+----------+\n",
              "|        Simon Spotlight,       | Musicians Fiction, Bullfig... |   jcbk   |\n",
              "|              Viz,             | Ninja Japan Comic books st... |   acbk   |\n",
              "|   Andrews McMeel Publishing,  | Duncan Jeremy Fictitious c... |   acbk   |\n",
              "|        Carroll & Graf,        | Hemingway Ernest 1899 1961... |   acbk   |\n",
              "| Red Alder Books/Down There... | Erotic literature American... |   acbk   |\n",
              "|     Yale University Press,    | Political atrocities Cambo... |   acbk   |\n",
              "|          Amana Books,         | Berger Elmer 1908 1996, Zi... |   acbk   |\n",
              "|              HQN,             | Man woman relationships Fi... |   acbk   |\n",
              "|          HarperTeen,          | Survival Juvenile fiction,... |   acbk   |\n",
              "|         BBC Worldwide,        | Doctor Fictitious characte... |  acdvd   |\n",
              "+-------------------------------+-------------------------------+----------+\n",
              "+----------------+--------------+--------------+-------------------------+-----------+\n",
              "| ItemCollection | FloatingItem | ItemLocation |        ReportDate       | ItemCount |\n",
              "+----------------+--------------+--------------+-------------------------+-----------+\n",
              "|     ncrdr      |   Floating   |     qna      | 2017-09-01T00:00:00.000 |     1     |\n",
              "|    nycomic     |     None     |     lcy      | 2017-09-01T00:00:00.000 |     1     |\n",
              "|    nycomic     |     None     |     bea      | 2017-09-01T00:00:00.000 |     1     |\n",
              "|     cafic      |     None     |     cen      | 2017-09-01T00:00:00.000 |     1     |\n",
              "|      canf      |     None     |     cen      | 2017-09-01T00:00:00.000 |     1     |\n",
              "|      canf      |     None     |     cen      | 2017-09-01T00:00:00.000 |     1     |\n",
              "|      canf      |     None     |     cen      | 2017-09-01T00:00:00.000 |     1     |\n",
              "|     nanew      |     None     |     lcy      | 2017-09-01T00:00:00.000 |     1     |\n",
              "|     nynew      |     None     |     nga      | 2017-09-01T00:00:00.000 |     1     |\n",
              "|     nadvd      |   Floating   |     wts      | 2017-09-01T00:00:00.000 |     2     |\n",
              "+----------------+--------------+--------------+-------------------------+-----------+\n",
              "[35531294 rows x 13 columns]\n",
              "Note: Only the head of the SFrame is printed.\n",
              "You can use print_rows(num_rows=m, num_columns=n) to print more rows and columns."
            ]
          },
          "metadata": {},
          "execution_count": 6
        }
      ]
    },
    {
      "cell_type": "code",
      "metadata": {
        "colab": {
          "base_uri": "https://localhost:8080/"
        },
        "id": "aBRN_HwBu-mS",
        "outputId": "4785a54b-0d54-46dc-f2a7-9ccf04e70187"
      },
      "source": [
        "\n",
        "import re\n",
        "r = re.compile('\\\\d{4}')\n",
        "def get_year(y_str):\n",
        "    l = r.findall(y_str) # take the first year\n",
        "    if len(l) == 0:\n",
        "        return None\n",
        "    return int(l[0])\n",
        "\n",
        "sf['year'] = sf['PublicationYear'].apply(lambda s: get_year(s))\n",
        "sf['year']"
      ],
      "execution_count": 7,
      "outputs": [
        {
          "output_type": "execute_result",
          "data": {
            "text/plain": [
              "dtype: int\n",
              "Rows: 35531294\n",
              "[2014, 2003, 2014, 1999, 1991, 1997, 1989, 2017, 2017, 2017, 2014, 2015, 2006, 2017, 2017, 2015, 2016, 2015, 2016, 2008, 2016, 2000, 1960, 2000, 2014, 2014, 2014, 2005, 2008, 2004, 2015, 2012, 1983, 1987, 2014, 2011, 2005, 2012, 1973, 2016, 1958, 2012, 2016, 2009, 2016, 2008, 1982, 1974, 2012, 2001, 2016, 2009, 2017, 1981, 2013, 2011, 2014, 2014, 2002, 2016, 2011, 2017, 2015, 2000, None, 2013, 1988, 2017, None, 2013, 2016, 2016, 2007, 1971, 1945, 2016, 2010, 2012, 1994, 1974, 2001, 1905, 1995, 2002, 2011, 2007, 2011, 2011, 2002, 2010, 2012, 1990, 2003, 2011, 1998, 2013, 2009, None, 2013, 2015, ... ]"
            ]
          },
          "metadata": {},
          "execution_count": 7
        }
      ]
    },
    {
      "cell_type": "code",
      "metadata": {
        "id": "e-NwxGxwvAev"
      },
      "source": [
        "\n",
        "?sf.materialize\n",
        "sf.materialize()"
      ],
      "execution_count": 8,
      "outputs": []
    },
    {
      "cell_type": "code",
      "metadata": {
        "id": "ma6iA9dQvCOv"
      },
      "source": [
        "sf_gt_2017 = sf[sf['year'] >= 2017]\n"
      ],
      "execution_count": 9,
      "outputs": []
    },
    {
      "cell_type": "code",
      "metadata": {
        "colab": {
          "base_uri": "https://localhost:8080/",
          "height": 449
        },
        "id": "yosXAkHhvE7O",
        "outputId": "aa850a14-3b99-422d-ced2-9c457ac78f5c"
      },
      "source": [
        "# group by subject, count , take max\n",
        "sf2 = sf_gt_2017['BibNum','Title', 'ItemLocation','ItemCount','year', 'Subjects'] # to make things run faster, we create smaller SFrame\n",
        "sf2['subject_list'] = sf2['Subjects'].apply(lambda s: s.split(\",\"))\n",
        "sf2['subject_list'] = sf2['subject_list'].apply(lambda l: [subject.strip() for subject in l])\n",
        "sf2 = sf2.remove_column('Subjects')\n",
        "\n",
        "#sf2 = sf2.unique() \n",
        "sf2"
      ],
      "execution_count": 10,
      "outputs": [
        {
          "output_type": "execute_result",
          "data": {
            "text/html": [
              "<div style=\"max-height:1000px;max-width:1500px;overflow:auto;\"><table frame=\"box\" rules=\"cols\">\n",
              "    <tr>\n",
              "        <th style=\"padding-left: 1em; padding-right: 1em; text-align: center\">BibNum</th>\n",
              "        <th style=\"padding-left: 1em; padding-right: 1em; text-align: center\">Title</th>\n",
              "        <th style=\"padding-left: 1em; padding-right: 1em; text-align: center\">ItemLocation</th>\n",
              "        <th style=\"padding-left: 1em; padding-right: 1em; text-align: center\">ItemCount</th>\n",
              "        <th style=\"padding-left: 1em; padding-right: 1em; text-align: center\">year</th>\n",
              "        <th style=\"padding-left: 1em; padding-right: 1em; text-align: center\">subject_list</th>\n",
              "    </tr>\n",
              "    <tr>\n",
              "        <td style=\"padding-left: 1em; padding-right: 1em; text-align: center; vertical-align: top\">3270562</td>\n",
              "        <td style=\"padding-left: 1em; padding-right: 1em; text-align: center; vertical-align: top\">Hard-hearted Highlander /<br>Julia London. ...</td>\n",
              "        <td style=\"padding-left: 1em; padding-right: 1em; text-align: center; vertical-align: top\">lcy</td>\n",
              "        <td style=\"padding-left: 1em; padding-right: 1em; text-align: center; vertical-align: top\">1</td>\n",
              "        <td style=\"padding-left: 1em; padding-right: 1em; text-align: center; vertical-align: top\">2017</td>\n",
              "        <td style=\"padding-left: 1em; padding-right: 1em; text-align: center; vertical-align: top\">[Man woman relationships<br>Fiction, Betrothal ...</td>\n",
              "    </tr>\n",
              "    <tr>\n",
              "        <td style=\"padding-left: 1em; padding-right: 1em; text-align: center; vertical-align: top\">3264577</td>\n",
              "        <td style=\"padding-left: 1em; padding-right: 1em; text-align: center; vertical-align: top\">The Sandcastle Empire /<br>Kayla Olson. ...</td>\n",
              "        <td style=\"padding-left: 1em; padding-right: 1em; text-align: center; vertical-align: top\">nga</td>\n",
              "        <td style=\"padding-left: 1em; padding-right: 1em; text-align: center; vertical-align: top\">1</td>\n",
              "        <td style=\"padding-left: 1em; padding-right: 1em; text-align: center; vertical-align: top\">2017</td>\n",
              "        <td style=\"padding-left: 1em; padding-right: 1em; text-align: center; vertical-align: top\">[Survival Juvenile<br>fiction, Islands Juve ...</td>\n",
              "    </tr>\n",
              "    <tr>\n",
              "        <td style=\"padding-left: 1em; padding-right: 1em; text-align: center; vertical-align: top\">3236819</td>\n",
              "        <td style=\"padding-left: 1em; padding-right: 1em; text-align: center; vertical-align: top\">Doctor Who. The return of<br>Doctor Mysterio / BBC ; ...</td>\n",
              "        <td style=\"padding-left: 1em; padding-right: 1em; text-align: center; vertical-align: top\">wts</td>\n",
              "        <td style=\"padding-left: 1em; padding-right: 1em; text-align: center; vertical-align: top\">2</td>\n",
              "        <td style=\"padding-left: 1em; padding-right: 1em; text-align: center; vertical-align: top\">2017</td>\n",
              "        <td style=\"padding-left: 1em; padding-right: 1em; text-align: center; vertical-align: top\">[Doctor Fictitious<br>character Drama, Time ...</td>\n",
              "    </tr>\n",
              "    <tr>\n",
              "        <td style=\"padding-left: 1em; padding-right: 1em; text-align: center; vertical-align: top\">3274605</td>\n",
              "        <td style=\"padding-left: 1em; padding-right: 1em; text-align: center; vertical-align: top\">The only child : a novel<br>/ Andrew Pyper. ...</td>\n",
              "        <td style=\"padding-left: 1em; padding-right: 1em; text-align: center; vertical-align: top\">cen</td>\n",
              "        <td style=\"padding-left: 1em; padding-right: 1em; text-align: center; vertical-align: top\">1</td>\n",
              "        <td style=\"padding-left: 1em; padding-right: 1em; text-align: center; vertical-align: top\">2017</td>\n",
              "        <td style=\"padding-left: 1em; padding-right: 1em; text-align: center; vertical-align: top\">[Forensic psychiatrists<br>Fiction, Psychological ...</td>\n",
              "    </tr>\n",
              "    <tr>\n",
              "        <td style=\"padding-left: 1em; padding-right: 1em; text-align: center; vertical-align: top\">3265336</td>\n",
              "        <td style=\"padding-left: 1em; padding-right: 1em; text-align: center; vertical-align: top\">The Jolley-Rogers and the<br>monster&#x27;s gold / Jonny ...</td>\n",
              "        <td style=\"padding-left: 1em; padding-right: 1em; text-align: center; vertical-align: top\">net</td>\n",
              "        <td style=\"padding-left: 1em; padding-right: 1em; text-align: center; vertical-align: top\">1</td>\n",
              "        <td style=\"padding-left: 1em; padding-right: 1em; text-align: center; vertical-align: top\">2017</td>\n",
              "        <td style=\"padding-left: 1em; padding-right: 1em; text-align: center; vertical-align: top\">[Pirates Juvenile<br>fiction, Monsters ...</td>\n",
              "    </tr>\n",
              "    <tr>\n",
              "        <td style=\"padding-left: 1em; padding-right: 1em; text-align: center; vertical-align: top\">3272492</td>\n",
              "        <td style=\"padding-left: 1em; padding-right: 1em; text-align: center; vertical-align: top\">Hothouse / Karyna<br>McGlynn. ...</td>\n",
              "        <td style=\"padding-left: 1em; padding-right: 1em; text-align: center; vertical-align: top\">uni</td>\n",
              "        <td style=\"padding-left: 1em; padding-right: 1em; text-align: center; vertical-align: top\">1</td>\n",
              "        <td style=\"padding-left: 1em; padding-right: 1em; text-align: center; vertical-align: top\">2017</td>\n",
              "        <td style=\"padding-left: 1em; padding-right: 1em; text-align: center; vertical-align: top\">[Poetry]</td>\n",
              "    </tr>\n",
              "    <tr>\n",
              "        <td style=\"padding-left: 1em; padding-right: 1em; text-align: center; vertical-align: top\">3277676</td>\n",
              "        <td style=\"padding-left: 1em; padding-right: 1em; text-align: center; vertical-align: top\">Filling her shoes : a<br>memoir of an inherited ...</td>\n",
              "        <td style=\"padding-left: 1em; padding-right: 1em; text-align: center; vertical-align: top\">cen</td>\n",
              "        <td style=\"padding-left: 1em; padding-right: 1em; text-align: center; vertical-align: top\">1</td>\n",
              "        <td style=\"padding-left: 1em; padding-right: 1em; text-align: center; vertical-align: top\">2017</td>\n",
              "        <td style=\"padding-left: 1em; padding-right: 1em; text-align: center; vertical-align: top\">[Fasbinder Betsy Graziani<br>Family, Stepmothers ...</td>\n",
              "    </tr>\n",
              "    <tr>\n",
              "        <td style=\"padding-left: 1em; padding-right: 1em; text-align: center; vertical-align: top\">3275106</td>\n",
              "        <td style=\"padding-left: 1em; padding-right: 1em; text-align: center; vertical-align: top\">The secret grave / Lois<br>Ruby. ...</td>\n",
              "        <td style=\"padding-left: 1em; padding-right: 1em; text-align: center; vertical-align: top\">cen</td>\n",
              "        <td style=\"padding-left: 1em; padding-right: 1em; text-align: center; vertical-align: top\">1</td>\n",
              "        <td style=\"padding-left: 1em; padding-right: 1em; text-align: center; vertical-align: top\">2017</td>\n",
              "        <td style=\"padding-left: 1em; padding-right: 1em; text-align: center; vertical-align: top\">[Haunted places Juvenile<br>fiction, Friendship ...</td>\n",
              "    </tr>\n",
              "    <tr>\n",
              "        <td style=\"padding-left: 1em; padding-right: 1em; text-align: center; vertical-align: top\">3262481</td>\n",
              "        <td style=\"padding-left: 1em; padding-right: 1em; text-align: center; vertical-align: top\">The 5 second rule :<br>transform your life, ...</td>\n",
              "        <td style=\"padding-left: 1em; padding-right: 1em; text-align: center; vertical-align: top\">bro</td>\n",
              "        <td style=\"padding-left: 1em; padding-right: 1em; text-align: center; vertical-align: top\">1</td>\n",
              "        <td style=\"padding-left: 1em; padding-right: 1em; text-align: center; vertical-align: top\">2017</td>\n",
              "        <td style=\"padding-left: 1em; padding-right: 1em; text-align: center; vertical-align: top\">[Self esteem<br>Psychological aspects, ...</td>\n",
              "    </tr>\n",
              "    <tr>\n",
              "        <td style=\"padding-left: 1em; padding-right: 1em; text-align: center; vertical-align: top\">3286332</td>\n",
              "        <td style=\"padding-left: 1em; padding-right: 1em; text-align: center; vertical-align: top\">Lowlands : [a novel] /<br>Terence Gallagher. ...</td>\n",
              "        <td style=\"padding-left: 1em; padding-right: 1em; text-align: center; vertical-align: top\">bal</td>\n",
              "        <td style=\"padding-left: 1em; padding-right: 1em; text-align: center; vertical-align: top\">1</td>\n",
              "        <td style=\"padding-left: 1em; padding-right: 1em; text-align: center; vertical-align: top\">2017</td>\n",
              "        <td style=\"padding-left: 1em; padding-right: 1em; text-align: center; vertical-align: top\">[High school students<br>Fiction, Bildungsromans, ...</td>\n",
              "    </tr>\n",
              "</table>\n",
              "[6505835 rows x 6 columns]<br/>Note: Only the head of the SFrame is printed.<br/>You can use print_rows(num_rows=m, num_columns=n) to print more rows and columns.\n",
              "</div>"
            ],
            "text/plain": [
              "Columns:\n",
              "\tBibNum\tint\n",
              "\tTitle\tstr\n",
              "\tItemLocation\tstr\n",
              "\tItemCount\tint\n",
              "\tyear\tint\n",
              "\tsubject_list\tlist\n",
              "\n",
              "Rows: 6505835\n",
              "\n",
              "Data:\n",
              "+---------+-------------------------------+--------------+-----------+------+\n",
              "|  BibNum |             Title             | ItemLocation | ItemCount | year |\n",
              "+---------+-------------------------------+--------------+-----------+------+\n",
              "| 3270562 | Hard-hearted Highlander / ... |     lcy      |     1     | 2017 |\n",
              "| 3264577 | The Sandcastle Empire / Ka... |     nga      |     1     | 2017 |\n",
              "| 3236819 | Doctor Who. The return of ... |     wts      |     2     | 2017 |\n",
              "| 3274605 | The only child : a novel /... |     cen      |     1     | 2017 |\n",
              "| 3265336 | The Jolley-Rogers and the ... |     net      |     1     | 2017 |\n",
              "| 3272492 |   Hothouse / Karyna McGlynn.  |     uni      |     1     | 2017 |\n",
              "| 3277676 | Filling her shoes : a memo... |     cen      |     1     | 2017 |\n",
              "| 3275106 | The secret grave / Lois Ruby. |     cen      |     1     | 2017 |\n",
              "| 3262481 | The 5 second rule : transf... |     bro      |     1     | 2017 |\n",
              "| 3286332 | Lowlands : [a novel] / Ter... |     bal      |     1     | 2017 |\n",
              "+---------+-------------------------------+--------------+-----------+------+\n",
              "+-------------------------------+\n",
              "|          subject_list         |\n",
              "+-------------------------------+\n",
              "| [Man woman relationships F... |\n",
              "| [Survival Juvenile fiction... |\n",
              "| [Doctor Fictitious charact... |\n",
              "| [Forensic psychiatrists Fi... |\n",
              "| [Pirates Juvenile fiction,... |\n",
              "|            [Poetry]           |\n",
              "| [Fasbinder Betsy Graziani ... |\n",
              "| [Haunted places Juvenile f... |\n",
              "| [Self esteem Psychological... |\n",
              "| [High school students Fict... |\n",
              "+-------------------------------+\n",
              "[6505835 rows x 6 columns]\n",
              "Note: Only the head of the SFrame is printed.\n",
              "You can use print_rows(num_rows=m, num_columns=n) to print more rows and columns."
            ]
          },
          "metadata": {},
          "execution_count": 10
        }
      ]
    },
    {
      "cell_type": "code",
      "metadata": {
        "colab": {
          "base_uri": "https://localhost:8080/"
        },
        "id": "rwrHTtk6vI56",
        "outputId": "dbc27a6a-6b02-4335-a56d-c3ff081e01d1"
      },
      "source": [
        "sf2 = sf2.stack(\"subject_list\", new_column_name=\"subject\") \n",
        "sf2['subject']"
      ],
      "execution_count": 11,
      "outputs": [
        {
          "output_type": "execute_result",
          "data": {
            "text/plain": [
              "dtype: str\n",
              "Rows: 32622045\n",
              "['Man woman relationships Fiction', 'Betrothal Fiction', 'Governesses Fiction', 'Highlands Scotland Fiction', 'Romance fiction', 'Historical fiction', 'Survival Juvenile fiction', 'Islands Juvenile fiction', 'Dystopias Juvenile fiction', 'Fantasy fiction', 'Young adult fiction', 'Doctor Fictitious character Drama', 'Time travel Drama', 'Human alien encounters Drama', 'Science fiction television programs', 'Fiction television programs', 'Television series', 'Video recordings for the hearing impaired', 'Forensic psychiatrists Fiction', 'Psychological fiction', 'Thrillers Fiction', 'Pirates Juvenile fiction', 'Monsters Juvenile fiction', 'Treasure troves Juvenile fiction', 'Poetry', 'Fasbinder Betsy Graziani Family', 'Stepmothers United States Biography', 'Stepfamilies United States Biography', 'Haunted places Juvenile fiction', 'Friendship Juvenile fiction', 'Friendship Fiction', 'Ghosts Fiction', 'Ghost stories', 'Self esteem Psychological aspects', 'Courage Popular works', 'Motivation Psychology', 'High school students Fiction', 'Bildungsromans', 'Time travel Fiction', 'Queens New York N Y Fiction', 'Ireland Fiction', 'Scotland Fiction', 'Young adult fiction', 'Coming of age Fiction', 'Celts Fiction', 'Teenage boys Fiction', 'Queens New York N Y Fiction', 'Casablanca Motion picture', 'Casablanca Motion picture History', 'Motion pictures Production and direction United States', 'Folklore Appalachian Region Juvenile literature', 'Folklore Appalachian Region', 'Gunther Bernhard Fictitious character Fiction', 'Private investigators Fiction', 'Nazis Fiction', 'Fugitives from justice Fiction', 'Detective and mystery fiction', 'Thrillers Fiction', 'Spy fiction', 'Large type books', 'Cats Juvenile fiction', 'Pirates Juvenile fiction', 'Treasure troves Juvenile fiction', 'Buried treasure Juvenile fiction', 'Sea monsters Juvenile fiction', 'Cats Fiction', 'Pirates Fiction', 'Treasure troves Fiction', 'Buried treasure Fiction', 'Sea monsters Fiction', 'Giant panda Juvenile films', 'Animated television programs', 'Childrens television programs', 'Educational television programs', 'Television series', 'Video recordings for the hearing impaired', 'Federal Correctional Institution Danbury Conn Drama', 'Women prisoners Drama', 'Reformatories for women Drama', 'Television series', 'Television comedies', 'Fiction television programs', 'Video recordings for the hearing impaired', 'Football Miscellanea Juvenile literature', 'Football Statistics Juvenile literature', 'Miffy Fictitious character Juvenile fiction', 'Miffy Fictitious character Fiction', 'Libraries Juvenile fiction', 'Friendship Juvenile fiction', 'Conduct of life Juvenile fiction', 'Rabbits Fiction', 'Aunts Fiction', 'Libraries Fiction', 'Helpfulness Fiction', 'Sisters Fiction', 'Domestic fiction', 'Reacher Jack Fictitious character Drama', 'Military police Drama', 'Murder Investigation Drama', 'Retired military personnel Drama', ... ]"
            ]
          },
          "metadata": {},
          "execution_count": 11
        }
      ]
    },
    {
      "cell_type": "code",
      "metadata": {
        "colab": {
          "base_uri": "https://localhost:8080/",
          "height": 415
        },
        "id": "AEzrj-QDvLlO",
        "outputId": "24723d10-08ad-4a31-9b5c-528e77727627"
      },
      "source": [
        "\n",
        "import turicreate.aggregate as agg\n",
        "def most_popular_book(sf, subject):\n",
        "    sf_by_subject = sf[sf.apply(lambda row: subject.lower() in row['subject'].lower())]\n",
        "    g = sf_by_subject.groupby('Title',{'ItemCount':tc.aggregate.SUM('ItemCount')})\n",
        "    sf_by_subject_most_Common = g.sort('ItemCount', ascending=False )[:10]\n",
        "    return sf_by_subject_most_Common\n",
        "most_popular_book(sf2,'Mystery Fiction')"
      ],
      "execution_count": 12,
      "outputs": [
        {
          "output_type": "execute_result",
          "data": {
            "text/html": [
              "<div style=\"max-height:1000px;max-width:1500px;overflow:auto;\"><table frame=\"box\" rules=\"cols\">\n",
              "    <tr>\n",
              "        <th style=\"padding-left: 1em; padding-right: 1em; text-align: center\">Title</th>\n",
              "        <th style=\"padding-left: 1em; padding-right: 1em; text-align: center\">ItemCount</th>\n",
              "    </tr>\n",
              "    <tr>\n",
              "        <td style=\"padding-left: 1em; padding-right: 1em; text-align: center; vertical-align: top\">Origin : a novel / Dan<br>Brown. ...</td>\n",
              "        <td style=\"padding-left: 1em; padding-right: 1em; text-align: center; vertical-align: top\">3921</td>\n",
              "    </tr>\n",
              "    <tr>\n",
              "        <td style=\"padding-left: 1em; padding-right: 1em; text-align: center; vertical-align: top\">Two kinds of truth /<br>Michael Connelly. ...</td>\n",
              "        <td style=\"padding-left: 1em; padding-right: 1em; text-align: center; vertical-align: top\">3543</td>\n",
              "    </tr>\n",
              "    <tr>\n",
              "        <td style=\"padding-left: 1em; padding-right: 1em; text-align: center; vertical-align: top\">Magpie murders / Anthony<br>Horowitz. ...</td>\n",
              "        <td style=\"padding-left: 1em; padding-right: 1em; text-align: center; vertical-align: top\">3075</td>\n",
              "    </tr>\n",
              "    <tr>\n",
              "        <td style=\"padding-left: 1em; padding-right: 1em; text-align: center; vertical-align: top\">Y is for yesterday / Sue<br>Grafton. ...</td>\n",
              "        <td style=\"padding-left: 1em; padding-right: 1em; text-align: center; vertical-align: top\">3002</td>\n",
              "    </tr>\n",
              "    <tr>\n",
              "        <td style=\"padding-left: 1em; padding-right: 1em; text-align: center; vertical-align: top\">Where the crawdads sing /<br>Delia Owens. ...</td>\n",
              "        <td style=\"padding-left: 1em; padding-right: 1em; text-align: center; vertical-align: top\">2973</td>\n",
              "    </tr>\n",
              "    <tr>\n",
              "        <td style=\"padding-left: 1em; padding-right: 1em; text-align: center; vertical-align: top\">The witch elm / Tana<br>French. ...</td>\n",
              "        <td style=\"padding-left: 1em; padding-right: 1em; text-align: center; vertical-align: top\">2789</td>\n",
              "    </tr>\n",
              "    <tr>\n",
              "        <td style=\"padding-left: 1em; padding-right: 1em; text-align: center; vertical-align: top\">Glass houses / Louise<br>Penny. ...</td>\n",
              "        <td style=\"padding-left: 1em; padding-right: 1em; text-align: center; vertical-align: top\">2730</td>\n",
              "    </tr>\n",
              "    <tr>\n",
              "        <td style=\"padding-left: 1em; padding-right: 1em; text-align: center; vertical-align: top\">The late show / Michael<br>Connelly. ...</td>\n",
              "        <td style=\"padding-left: 1em; padding-right: 1em; text-align: center; vertical-align: top\">2689</td>\n",
              "    </tr>\n",
              "    <tr>\n",
              "        <td style=\"padding-left: 1em; padding-right: 1em; text-align: center; vertical-align: top\">Nine perfect strangers /<br>Liane Moriarty. ...</td>\n",
              "        <td style=\"padding-left: 1em; padding-right: 1em; text-align: center; vertical-align: top\">2541</td>\n",
              "    </tr>\n",
              "    <tr>\n",
              "        <td style=\"padding-left: 1em; padding-right: 1em; text-align: center; vertical-align: top\">The midnight line / Lee<br>Child. ...</td>\n",
              "        <td style=\"padding-left: 1em; padding-right: 1em; text-align: center; vertical-align: top\">2472</td>\n",
              "    </tr>\n",
              "</table>\n",
              "[10 rows x 2 columns]<br/>\n",
              "</div>"
            ],
            "text/plain": [
              "Columns:\n",
              "\tTitle\tstr\n",
              "\tItemCount\tint\n",
              "\n",
              "Rows: 10\n",
              "\n",
              "Data:\n",
              "+--------------------------------+-----------+\n",
              "|             Title              | ItemCount |\n",
              "+--------------------------------+-----------+\n",
              "| Origin : a novel / Dan Brown.  |    3921   |\n",
              "| Two kinds of truth / Micha...  |    3543   |\n",
              "| Magpie murders / Anthony H...  |    3075   |\n",
              "| Y is for yesterday / Sue G...  |    3002   |\n",
              "| Where the crawdads sing / ...  |    2973   |\n",
              "|  The witch elm / Tana French.  |    2789   |\n",
              "|  Glass houses / Louise Penny.  |    2730   |\n",
              "| The late show / Michael Co...  |    2689   |\n",
              "| Nine perfect strangers / L...  |    2541   |\n",
              "| The midnight line / Lee Child. |    2472   |\n",
              "+--------------------------------+-----------+\n",
              "[10 rows x 2 columns]"
            ]
          },
          "metadata": {},
          "execution_count": 12
        }
      ]
    },
    {
      "cell_type": "markdown",
      "metadata": {
        "id": "31NZ1B3S0P2i"
      },
      "source": [
        "**Question 2**: Find the top-10 fiction subjects (5pt), and use Seaborn to visualize the number of items over time for each subject (15pt)\n",
        "    "
      ]
    },
    {
      "cell_type": "code",
      "metadata": {
        "id": "keOHakis0P2j"
      },
      "source": [
        "sf2_subject = sf2['subject','ItemCount','year']\n",
        "sf2_fiction = sf2_subject[sf2_subject.apply(lambda row: 'Fiction'.lower() in row['subject'].lower())]\n",
        "#sf2_fiction.num_rows()"
      ],
      "execution_count": 13,
      "outputs": []
    },
    {
      "cell_type": "code",
      "metadata": {
        "colab": {
          "base_uri": "https://localhost:8080/"
        },
        "id": "_l38z0z8HYzE",
        "outputId": "4b33b51d-c814-4742-866d-c4c70e2aef5d"
      },
      "source": [
        "g = sf2_fiction.groupby('subject',{'ItemCount':tc.aggregate.SUM('ItemCount')})\n",
        "sf2_fiction_sorted = g.sort('ItemCount', ascending=False )\n",
        "sf2_fiction_sorted.print_rows(10)"
      ],
      "execution_count": 14,
      "outputs": [
        {
          "output_type": "stream",
          "name": "stdout",
          "text": [
            "+-------------------------------+-----------+\n",
            "|            subject            | ItemCount |\n",
            "+-------------------------------+-----------+\n",
            "|         Fiction films         |   720921  |\n",
            "| Detective and mystery fiction |   472430  |\n",
            "|       Thrillers Fiction       |   417619  |\n",
            "|       Historical fiction      |   284234  |\n",
            "|  Fiction television programs  |   266974  |\n",
            "|  Friendship Juvenile fiction  |   244361  |\n",
            "|        Fantasy fiction        |   224510  |\n",
            "|  Murder Investigation Fiction |   200837  |\n",
            "|        Domestic fiction       |   192456  |\n",
            "|        Romance fiction        |   173722  |\n",
            "+-------------------------------+-----------+\n",
            "[20074 rows x 2 columns]\n",
            "\n"
          ]
        }
      ]
    },
    {
      "cell_type": "code",
      "metadata": {
        "id": "qbqlkUrlHadu"
      },
      "source": [
        "top10_subject = sf2_fiction_sorted[:10]['subject'] # list of the top 10 subjects\n"
      ],
      "execution_count": 15,
      "outputs": []
    },
    {
      "cell_type": "code",
      "metadata": {
        "id": "Y3EiGyQ0HcUu"
      },
      "source": [
        "import seaborn as sns\n",
        "import pandas as pd\n",
        "import matplotlib.pyplot as plt"
      ],
      "execution_count": 16,
      "outputs": []
    },
    {
      "cell_type": "code",
      "metadata": {
        "id": "qDXLl8nJcSsN"
      },
      "source": [
        "sf2_fiction_top10 = sf2_subject[sf2_subject.apply(lambda row:  row['subject'] in top10_subject)]"
      ],
      "execution_count": 17,
      "outputs": []
    },
    {
      "cell_type": "code",
      "metadata": {
        "id": "xFHc4K2tHe-I"
      },
      "source": [
        "# getting only the top 10 subject from the data\n",
        "sf2_fiction_top10 = sf2_subject[sf2_subject.apply(lambda row:  row['subject'] in top10_subject)]\n",
        "sf2_fiction_top10_grouped = sf2_fiction_top10.groupby(['subject','year'],{'ItemCount':tc.aggregate.SUM('ItemCount')})"
      ],
      "execution_count": null,
      "outputs": []
    },
    {
      "cell_type": "code",
      "metadata": {
        "id": "uNPGJ9CEm6p0"
      },
      "source": [
        "sf2_fiction_top10"
      ],
      "execution_count": null,
      "outputs": []
    },
    {
      "cell_type": "code",
      "metadata": {
        "id": "2Z9mE6JWHhqA"
      },
      "source": [
        "\n",
        "df = sf2_fiction_top10.to_dataframe()"
      ],
      "execution_count": null,
      "outputs": []
    },
    {
      "cell_type": "code",
      "metadata": {
        "id": "3MZEqJEXS4bV"
      },
      "source": [
        ""
      ],
      "execution_count": null,
      "outputs": []
    },
    {
      "cell_type": "code",
      "metadata": {
        "id": "XYV3L1weHjQT"
      },
      "source": [
        "g = sns.FacetGrid(df, col=\"subject\")\n",
        "g.map_dataframe(sns.scatterplot, x=\"year\", y=\"ItemCount\")\n",
        "g.add_legend()"
      ],
      "execution_count": null,
      "outputs": []
    },
    {
      "cell_type": "markdown",
      "metadata": {
        "id": "WlbdMR3m0P2n"
      },
      "source": [
        "**Question 3:** Write a function that gets as input a subject name. The function returns the top-20 most _popular_ authors for the input subject (15pt).\n",
        "\n"
      ]
    },
    {
      "cell_type": "code",
      "metadata": {
        "id": "WXaxnXmr0P2o"
      },
      "source": [
        ""
      ],
      "execution_count": null,
      "outputs": []
    },
    {
      "cell_type": "markdown",
      "metadata": {
        "id": "w5glNK9H0P2r"
      },
      "source": [
        "Using the [The Blog Authorship Corpus](https://www.kaggle.com/rtatman/blog-authorship-corpus.htm) and TuriCreate, please answer the following questions:"
      ]
    },
    {
      "cell_type": "markdown",
      "metadata": {
        "id": "DrxFfd-i0P2s"
      },
      "source": [
        "**Question 4:** Calculate the average and median age of bloggers in each topic by gender(5pt). \n",
        "Calculate the average and median age of bloggers according to their sign (5pt). \n",
        "Visualize the age distributions  of bloggers according to their  topic and gender using Seaborn and PlotlyExpress(15pt)"
      ]
    },
    {
      "cell_type": "code",
      "metadata": {
        "id": "0J2gbaCw0P2t"
      },
      "source": [
        ""
      ],
      "execution_count": null,
      "outputs": []
    },
    {
      "cell_type": "markdown",
      "metadata": {
        "id": "HoIuWd1A0P2x"
      },
      "source": [
        "**Question 5:** Using the  [SJR Journal Ranking of 2018](https://www.scimagojr.com/journalrank.php) dataset and Seaborn, visualize\n",
        "    the H-index distributions according to the SJR Best Quartile (15pt). Using a grid, visualize the _Cites / Doc. (2years)_ histograms values of each publisher (15pt).\n",
        "    \n"
      ]
    },
    {
      "cell_type": "code",
      "metadata": {
        "id": "HNtgDQZE0P2y"
      },
      "source": [
        ""
      ],
      "execution_count": null,
      "outputs": []
    }
  ]
}