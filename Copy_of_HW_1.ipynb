{
  "nbformat": 4,
  "nbformat_minor": 0,
  "metadata": {
    "kernelspec": {
      "display_name": "Python 3",
      "language": "python",
      "name": "python3"
    },
    "language_info": {
      "codemirror_mode": {
        "name": "ipython",
        "version": 3
      },
      "file_extension": ".py",
      "mimetype": "text/x-python",
      "name": "python",
      "nbconvert_exporter": "python",
      "pygments_lexer": "ipython3",
      "version": "3.6.9"
    },
    "colab": {
      "name": "Copy of HW 1.ipynb",
      "provenance": [],
      "collapsed_sections": [
        "W1K5VTLoYCy3"
      ],
      "include_colab_link": true
    }
  },
  "cells": [
    {
      "cell_type": "markdown",
      "metadata": {
        "id": "view-in-github",
        "colab_type": "text"
      },
      "source": [
        "<a href=\"https://colab.research.google.com/github/southjohn64/data_mine/blob/main/Copy_of_HW_1.ipynb\" target=\"_parent\"><img src=\"https://colab.research.google.com/assets/colab-badge.svg\" alt=\"Open In Colab\"/></a>"
      ]
    },
    {
      "cell_type": "markdown",
      "metadata": {
        "id": "_fq8BHLiYCyE"
      },
      "source": [
        "# Homework Assignment 1\n",
        "### [The Art of Analyzing Big Data - The Data Scientist’s Toolbox](https://www.ise.bgu.ac.il/labs/fire/lectures.html)\n",
        "#### By Dr. Michael Fire "
      ]
    },
    {
      "cell_type": "markdown",
      "metadata": {
        "id": "jYvqtKSOYCyG"
      },
      "source": [
        "For this homework you will need to write code that analyzes real-world datasets. The code needs to be written in Python using the [sqlite3](https://docs.python.org/2/library/sqlite3.html) package. \n",
        "\n",
        "**Please note:** You need to answer only the questions that match your ID first digit."
      ]
    },
    {
      "cell_type": "code",
      "metadata": {
        "id": "_ehvD3Ut3cDY",
        "colab": {
          "base_uri": "https://localhost:8080/"
        },
        "outputId": "06078ec3-7d15-4e5c-b223-44c403dbf481"
      },
      "source": [
        "from google.colab import drive\n",
        "drive.mount('/content/drive')"
      ],
      "execution_count": 1,
      "outputs": [
        {
          "output_type": "stream",
          "name": "stdout",
          "text": [
            "Mounted at /content/drive\n"
          ]
        }
      ]
    },
    {
      "cell_type": "code",
      "metadata": {
        "id": "xcsVGV0L3lQ5",
        "colab": {
          "base_uri": "https://localhost:8080/"
        },
        "outputId": "67796f3b-df0f-434a-b764-4f4ea665c83b"
      },
      "source": [
        "import json\n",
        "import os\n",
        "\n",
        "# Installing the Kaggle package\n",
        "!pip install kaggle \n",
        "\n",
        "#Important Note: complete this with your own key - after running this for the first time remmember to **remove** your API_KEY\n",
        "#api_token = {\"username\":\"<Insert Your Kaggle User Name>\",\"key\":\"<Insert Your Kaggle API key>\"}\n",
        "\n",
        "\n",
        "# creating kaggle.json file with the personal API-Key details \n",
        "# You can also put this file on your Google Drive\n",
        "#with open('/root/.kaggle/kaggle.json', 'w') as file:\n",
        "#  json.dump(api_token, file)\n",
        "!mkdir /root/.kaggle/\n",
        "!cp /content/drive/MyDrive/kaggle.json  /root/.kaggle/kaggle.json\n",
        "!chmod 600 /root/.kaggle/kaggle.json"
      ],
      "execution_count": 2,
      "outputs": [
        {
          "output_type": "stream",
          "name": "stdout",
          "text": [
            "Requirement already satisfied: kaggle in /usr/local/lib/python3.7/dist-packages (1.5.12)\n",
            "Requirement already satisfied: python-dateutil in /usr/local/lib/python3.7/dist-packages (from kaggle) (2.8.2)\n",
            "Requirement already satisfied: requests in /usr/local/lib/python3.7/dist-packages (from kaggle) (2.23.0)\n",
            "Requirement already satisfied: certifi in /usr/local/lib/python3.7/dist-packages (from kaggle) (2021.5.30)\n",
            "Requirement already satisfied: six>=1.10 in /usr/local/lib/python3.7/dist-packages (from kaggle) (1.15.0)\n",
            "Requirement already satisfied: python-slugify in /usr/local/lib/python3.7/dist-packages (from kaggle) (5.0.2)\n",
            "Requirement already satisfied: tqdm in /usr/local/lib/python3.7/dist-packages (from kaggle) (4.62.3)\n",
            "Requirement already satisfied: urllib3 in /usr/local/lib/python3.7/dist-packages (from kaggle) (1.24.3)\n",
            "Requirement already satisfied: text-unidecode>=1.3 in /usr/local/lib/python3.7/dist-packages (from python-slugify->kaggle) (1.3)\n",
            "Requirement already satisfied: idna<3,>=2.5 in /usr/local/lib/python3.7/dist-packages (from requests->kaggle) (2.10)\n",
            "Requirement already satisfied: chardet<4,>=3.0.2 in /usr/local/lib/python3.7/dist-packages (from requests->kaggle) (3.0.4)\n"
          ]
        }
      ]
    },
    {
      "cell_type": "markdown",
      "metadata": {
        "id": "AML-gkV-YCyI"
      },
      "source": [
        "# 1. Babies Names Dataset (35pt)"
      ]
    },
    {
      "cell_type": "markdown",
      "metadata": {
        "id": "jvkBrt7SYCyK"
      },
      "source": [
        "**Task 1 (for everyone):** Write a code that uses the  [**babies names dataset** ](https://www.kaggle.com/kaggle/us-baby-names?select=NationalNames.csv) (use NationalNames.csv) and creates a table named (Names) with the dataset data and the following columns: 'State', 'Gender', 'Name', 'Count' , and 'Year' (5pt)\n",
        "**Bonus:** Load the data using a Batch INSERT SQL Query (2pt)"
      ]
    },
    {
      "cell_type": "code",
      "metadata": {
        "id": "-vrdQhaLYCyL",
        "colab": {
          "base_uri": "https://localhost:8080/"
        },
        "outputId": "5d4b35ef-0f29-45f0-e9d8-c218f063a50a"
      },
      "source": [
        "# Creating a dataset directory\n",
        "!mkdir ./datasets\n",
        "!mkdir ./datasets/us-baby-name\n",
        "\n",
        "# download the dataset from Kaggle and unzip it\n",
        "!kaggle datasets download kaggle/us-baby-names -f StateNames.csv -p ./datasets/us-baby-name/\n",
        "!chdir ./datasets/us-baby-name/\n",
        "!unzip ./datasets/us-baby-name/StateNames.csv.zip  -d ./datasets/us-baby-name"
      ],
      "execution_count": null,
      "outputs": [
        {
          "output_type": "stream",
          "name": "stdout",
          "text": [
            "Downloading StateNames.csv.zip to ./datasets/us-baby-name\n",
            " 79% 24.0M/30.5M [00:00<00:00, 49.3MB/s]\n",
            "100% 30.5M/30.5M [00:00<00:00, 77.1MB/s]\n",
            "/bin/bash: chdir: command not found\n",
            "Archive:  ./datasets/us-baby-name/StateNames.csv.zip\n",
            "  inflating: ./datasets/us-baby-name/StateNames.csv  \n"
          ]
        }
      ]
    },
    {
      "cell_type": "markdown",
      "metadata": {
        "id": "QEbvkQhCYCyP"
      },
      "source": [
        "**Task 2 (for everyone):** Write a query that returns the statistics for the name Mary (5pt). Use the [the timeit package](https://docs.python.org/3/library/timeit.html) to measure the time it takes the query to run (5pt). **Bonus:** [Create an index](https://www.w3schools.com/sql/sql_create_index.asp)  on the _Name_ column and use the [the timeit package](https://docs.python.org/3/library/timeit.html) to measure the time it takes the query to run with the index (5pt)"
      ]
    },
    {
      "cell_type": "code",
      "metadata": {
        "id": "YBCHPAOzYCyR"
      },
      "source": [
        ""
      ],
      "execution_count": null,
      "outputs": []
    },
    {
      "cell_type": "markdown",
      "metadata": {
        "id": "6dClZxXjYCyU"
      },
      "source": [
        "### <span style=\"color:red\"> Please answer only **one** of the following questions according to your ID number (use the formula **<YOUR_ID> mod 4 +1**) </span>"
      ]
    },
    {
      "cell_type": "code",
      "metadata": {
        "id": "iDpqwgwQYCyV"
      },
      "source": [
        "# which question to answer - put your ID number and run the code \n",
        "your_id  = \"<fill_your_id>\"\n",
        "q = int(your_id) % 4 + 1\n",
        "print(\"You need to answer question number %s\" % q)"
      ],
      "execution_count": null,
      "outputs": []
    },
    {
      "cell_type": "markdown",
      "metadata": {
        "id": "bGU71KQ8YCyZ"
      },
      "source": [
        "***Question 1:*** Write a function that returns how many babies were born in a given state in a given year.\n",
        "Use it to calculate the number of babies born in TX in 1986 (10pt)"
      ]
    },
    {
      "cell_type": "code",
      "metadata": {
        "id": "0RB3GjaaYCya"
      },
      "source": [
        ""
      ],
      "execution_count": null,
      "outputs": []
    },
    {
      "cell_type": "markdown",
      "metadata": {
        "id": "510Wry5WYCye"
      },
      "source": [
        "***Question 2:*** Write a function that returns how many female babies were born between a given range of years.\n",
        "Use it to calculate how many babies were born between 1988 and 1995  (10pt)"
      ]
    },
    {
      "cell_type": "code",
      "metadata": {
        "id": "m5wOKWsBYCyf"
      },
      "source": [
        ""
      ],
      "execution_count": null,
      "outputs": []
    },
    {
      "cell_type": "markdown",
      "metadata": {
        "id": "x721dD1NYCyi"
      },
      "source": [
        "**Question 3:** Write a function that returns the most common female name in a given state. Use it to calculate the most common female name in Wasington in 1987 (10pt)"
      ]
    },
    {
      "cell_type": "code",
      "metadata": {
        "id": "h3t_ouDoYCyj"
      },
      "source": [
        ""
      ],
      "execution_count": null,
      "outputs": []
    },
    {
      "cell_type": "markdown",
      "metadata": {
        "id": "mRyUoBvhYCyl"
      },
      "source": [
        "**Question 4:** Write a function that returns how many male babies named _Robert where born in a given state in a given year. Use it to find the state in which the highest number of babies _Robert_ where born in 2010 (10pt)"
      ]
    },
    {
      "cell_type": "code",
      "metadata": {
        "id": "lz1q1mvPYCym"
      },
      "source": [
        ""
      ],
      "execution_count": null,
      "outputs": []
    },
    {
      "cell_type": "markdown",
      "metadata": {
        "id": "THz0vDHHYCyo"
      },
      "source": [
        "**Question (for everyone):** For the state of CA write code that calculates the second most popular female/male names in each decade (10pt). **Bonus**: Visualize it somehow using Matplotlib (5pt)"
      ]
    },
    {
      "cell_type": "code",
      "metadata": {
        "id": "dVRTQGOS_3G9"
      },
      "source": [
        ""
      ],
      "execution_count": null,
      "outputs": []
    },
    {
      "cell_type": "markdown",
      "metadata": {
        "id": "gmdQrLL9YCyp"
      },
      "source": [
        "# 2. Flavors of Cacao Dataset (15pt)"
      ]
    },
    {
      "cell_type": "markdown",
      "metadata": {
        "id": "dTpNKH7UYCyq"
      },
      "source": [
        "Using the [Flavors of Cacao](https://www.kaggle.com/rombikuboktaeder/choco-flavors) dataset, answer the following questions:"
      ]
    },
    {
      "cell_type": "code",
      "metadata": {
        "id": "NYfLEuvK4F_U"
      },
      "source": [
        "\n",
        "!kaggle datasets list -s flavors"
      ],
      "execution_count": null,
      "outputs": []
    },
    {
      "cell_type": "code",
      "metadata": {
        "id": "cgovftgF36iI",
        "colab": {
          "base_uri": "https://localhost:8080/"
        },
        "outputId": "b6d8b468-fa6e-4754-d2cb-0596353e0443"
      },
      "source": [
        "# download the dataset from Kaggle and unzip it\n",
        "!kaggle datasets download abhishekpatel/flavors-of-cacaocsv  -f flavors_of_cacao.csv -p ./datasets/flavors_of_cacao/"
      ],
      "execution_count": 3,
      "outputs": [
        {
          "output_type": "stream",
          "name": "stdout",
          "text": [
            "Downloading flavors_of_cacao.csv to ./datasets/flavors_of_cacao\n",
            "\r  0% 0.00/125k [00:00<?, ?B/s]\n",
            "\r100% 125k/125k [00:00<00:00, 37.7MB/s]\n"
          ]
        }
      ]
    },
    {
      "cell_type": "code",
      "metadata": {
        "id": "D5FWfEiaYCys"
      },
      "source": [
        "import sqlite3\n",
        "import matplotlib\n",
        "import matplotlib.pyplot as plt\n",
        "import os\n",
        "import csv\n",
        "%matplotlib inline\n",
        "DB_PATH = './datasets/flavors_of_cacao/flavors_of_cacao.csv'"
      ],
      "execution_count": 32,
      "outputs": []
    },
    {
      "cell_type": "code",
      "metadata": {
        "id": "GqQm3o8M5goZ"
      },
      "source": [
        "conn = sqlite3.connect('flavors_of_cacao.db')"
      ],
      "execution_count": 33,
      "outputs": []
    },
    {
      "cell_type": "code",
      "metadata": {
        "id": "rPHX80m05n0Z"
      },
      "source": [
        "c = conn.cursor()\n",
        "c.execute('''CREATE TABLE Cacao (Company text, Bean_Originor text, REF int, ReviewDate int, CocoaPercent real, CompanyLocation text, Rating int, BeanType text, BroadBeanOrigin text)''')\n",
        "c.close() # close the cursor"
      ],
      "execution_count": 34,
      "outputs": []
    },
    {
      "cell_type": "code",
      "metadata": {
        "id": "Iqi5wXwr63ML"
      },
      "source": [
        "insert_records = \"INSERT INTO Cacao (Company, Bean_Originor, REF, ReviewDate, CocoaPercent, CompanyLocation, Rating, BeanType, BroadBeanOrigin) VALUES(?, ?,?, ?,?,?,?,?,?)\"\n"
      ],
      "execution_count": 35,
      "outputs": []
    },
    {
      "cell_type": "code",
      "metadata": {
        "colab": {
          "base_uri": "https://localhost:8080/"
        },
        "id": "CSfRbn1-7UYZ",
        "outputId": "22a31c25-b92e-4290-c05f-3dbf1f6fe98e"
      },
      "source": [
        "file = open(DB_PATH)\n",
        "contents = csv.reader(file)\n",
        "\n",
        "records = []\n",
        "row_num = 0\n",
        "for row in contents:\n",
        "    if row_num > 0:\n",
        "        records.append((row[0], row[1], row[2], row[3], float(row[4].strip('%')) , row[5], row[6], row[7], row[8]))\n",
        "    else:\n",
        "        print(row)\n",
        "    row_num += 1\n",
        "records[0]"
      ],
      "execution_count": 36,
      "outputs": [
        {
          "output_type": "stream",
          "name": "stdout",
          "text": [
            "['Company\\xa0\\n(Maker-if known)', 'Specific Bean Origin\\nor Bar Name', 'REF', 'Review\\nDate', 'Cocoa\\nPercent', 'Company\\nLocation', 'Rating', 'Bean\\nType', 'Broad Bean\\nOrigin']\n"
          ]
        },
        {
          "output_type": "execute_result",
          "data": {
            "text/plain": [
              "('A. Morin',\n",
              " 'Agua Grande',\n",
              " '1876',\n",
              " '2016',\n",
              " 63.0,\n",
              " 'France',\n",
              " '3.75',\n",
              " '\\xa0',\n",
              " 'Sao Tome')"
            ]
          },
          "metadata": {},
          "execution_count": 36
        }
      ]
    },
    {
      "cell_type": "code",
      "metadata": {
        "colab": {
          "base_uri": "https://localhost:8080/"
        },
        "id": "yq9J1I3h_uRL",
        "outputId": "ee51d68d-6b93-4ba0-9020-ca8408e10032"
      },
      "source": [
        ""
      ],
      "execution_count": 31,
      "outputs": [
        {
          "output_type": "execute_result",
          "data": {
            "text/plain": [
              "65.0"
            ]
          },
          "metadata": {},
          "execution_count": 31
        }
      ]
    },
    {
      "cell_type": "code",
      "metadata": {
        "id": "XI0_Y5cd7Xo0"
      },
      "source": [
        "# load bulk\n",
        "c = conn.cursor()\n",
        "c.executemany(insert_records, records)\n",
        "#c.commit()\n",
        "c.close() # close the cursor"
      ],
      "execution_count": 37,
      "outputs": []
    },
    {
      "cell_type": "markdown",
      "metadata": {
        "id": "wbg9gkVtYCyr"
      },
      "source": [
        "**Question 1:** Write a function that returns the number of bars manufactured where the bars' BroadBean Origin is a given country. Use the function to calculate the number of bars where BroadBean Origin is 'Fiji' (15pt)"
      ]
    },
    {
      "cell_type": "code",
      "metadata": {
        "id": "lnyDKyIm6yq4",
        "colab": {
          "base_uri": "https://localhost:8080/"
        },
        "outputId": "5ceacd2c-37eb-41d5-e414-d4a3a03e88a1"
      },
      "source": [
        "def bars_by_country(broad_bean_origin):\n",
        "  c = conn.cursor()  \n",
        "  rows = c.execute(\"\"\"SELECT SUM(REF) FROM Cacao WHERE BroadBeanOrigin= \"{broad_bean_origin}\" \"\"\".format(broad_bean_origin= broad_bean_origin)).fetchone()\n",
        "  c.close()\n",
        "  return rows[0]\n",
        "bars_by_country('Fiji')\n"
      ],
      "execution_count": 38,
      "outputs": [
        {
          "output_type": "execute_result",
          "data": {
            "text/plain": [
              "8898"
            ]
          },
          "metadata": {},
          "execution_count": 38
        }
      ]
    },
    {
      "cell_type": "markdown",
      "metadata": {
        "id": "9GCvKxWtYCyu"
      },
      "source": [
        "**Question 2:** Write a function that returns the maximal and average cocoa percentage in a bar manufactured by a company in a specific country. Use the function to calculate the minimal and average cocoa percentage in bars manufactured by a Swiss company (15pt)."
      ]
    },
    {
      "cell_type": "code",
      "metadata": {
        "id": "KZJXxtwWYCyv",
        "colab": {
          "base_uri": "https://localhost:8080/"
        },
        "outputId": "01c48ff8-27ca-4fa2-9c0a-07bb8e8643b2"
      },
      "source": [
        "def cocoa_percent(country):\n",
        "  c = conn.cursor()  \n",
        "  rows = c.execute(\"\"\"SELECT Company, MIN(CocoaPercent), AVG(CocoaPercent) FROM Cacao WHERE CompanyLocation= \"{country}\" group by  Company\"\"\".format(country= country)).fetchall()\n",
        "  i = 1\n",
        "  for r in rows:\n",
        "    print(f\"{i}. {r[0]}, {str(r[1])},  {str(r[2])}\")\n",
        "    i += 1\n",
        "  c.close()\n",
        "  return rows\n",
        "cocoa_percent('Swiss')"
      ],
      "execution_count": 44,
      "outputs": [
        {
          "output_type": "execute_result",
          "data": {
            "text/plain": [
              "[]"
            ]
          },
          "metadata": {},
          "execution_count": 44
        }
      ]
    },
    {
      "cell_type": "markdown",
      "metadata": {
        "id": "GlYqUA1xYCyx"
      },
      "source": [
        "**Question 3:** Calculate the second most common bean type(s) and the most rare bean type(s) (15\n",
        "pt)"
      ]
    },
    {
      "cell_type": "code",
      "metadata": {
        "id": "kk0qIAiwYCyx",
        "colab": {
          "base_uri": "https://localhost:8080/"
        },
        "outputId": "dd6ef2d7-1ee6-40a6-b2be-22860186744c"
      },
      "source": [
        "def common_bean_type():\n",
        "  c = conn.cursor()  \n",
        "  rows = c.execute(\"\"\"SELECT BeanType, SUM(REF) FROM Cacao WHERE  BeanType <> '\\xa0' group by  BeanType order by SUM(REF) DESC \"\"\").fetchall()\n",
        "  rare_index = len(rows)\n",
        "  i = 1\n",
        "  for r in rows:\n",
        "    if i ==2 or i == rare_index:\n",
        "      print(f\"{i}. {r[0]}, {r[1]}\")\n",
        "      #break\n",
        "    i += 1\n",
        "  c.close()\n",
        "  return rows\n",
        "common_bean_type();"
      ],
      "execution_count": 55,
      "outputs": [
        {
          "output_type": "stream",
          "name": "stdout",
          "text": [
            "2. Criollo, 136979\n",
            "41. Criollo (Wild), 56\n"
          ]
        }
      ]
    },
    {
      "cell_type": "markdown",
      "metadata": {
        "id": "aOg-NK_lYCyz"
      },
      "source": [
        "**Question 4:** Calculate the number of reviews and the average rating in each year. Calculate the number of reviews and the average rating of each company in each year (15pt)"
      ]
    },
    {
      "cell_type": "code",
      "metadata": {
        "id": "e8qwHAldYCy0"
      },
      "source": [
        ""
      ],
      "execution_count": null,
      "outputs": []
    },
    {
      "cell_type": "markdown",
      "metadata": {
        "id": "eKx7_9vyYCy1"
      },
      "source": [
        "# 3. Kickstarter Projects Dataset (25pt)"
      ]
    },
    {
      "cell_type": "markdown",
      "metadata": {
        "id": "5HXua9B5YCy2"
      },
      "source": [
        "Using the [Kickstarter Projects Dataset](https://www.kaggle.com/kemical/kickstarter-projects#ks-projects-201801.csv), answer the following questions:"
      ]
    },
    {
      "cell_type": "markdown",
      "metadata": {
        "id": "NGgJ1dyeZiFH"
      },
      "source": [
        "**Task 1 (for everyone):** Load the dataset to SQLite DB using [PonyORM](https://ponyorm.org) (10pt)"
      ]
    },
    {
      "cell_type": "code",
      "metadata": {
        "id": "TLhhxMDDb2nN"
      },
      "source": [
        ""
      ],
      "execution_count": null,
      "outputs": []
    },
    {
      "cell_type": "markdown",
      "metadata": {
        "id": "W1K5VTLoYCy3"
      },
      "source": [
        "### <span style=\"color:red\"> Please answer only **one** of the following questions according to your ID number (use the formula **<YOUR_ID> mod 3 +1**) </span>"
      ]
    },
    {
      "cell_type": "code",
      "metadata": {
        "id": "vwlOZtVHYCy3"
      },
      "source": [
        "# which question to answer - put your ID number and run the code \n",
        "your_id  = \"<fill_your_id>\"\n",
        "q = int(your_id) % 3 + 1\n",
        "print(\"You need to answer question number %s\" % q)"
      ],
      "execution_count": null,
      "outputs": []
    },
    {
      "cell_type": "markdown",
      "metadata": {
        "id": "gkVN8OnxYCy5"
      },
      "source": [
        "**Question 1:** On average which project category received the highest number of backers? (15 pt)"
      ]
    },
    {
      "cell_type": "code",
      "metadata": {
        "id": "vkhb156oYCy6"
      },
      "source": [
        ""
      ],
      "execution_count": null,
      "outputs": []
    },
    {
      "cell_type": "markdown",
      "metadata": {
        "id": "LTk5XnNGYCy7"
      },
      "source": [
        "**Question 2:** On average which project category received the highest pledged USD? (15 pt)"
      ]
    },
    {
      "cell_type": "code",
      "metadata": {
        "id": "DfiXdIneYCy8"
      },
      "source": [
        ""
      ],
      "execution_count": null,
      "outputs": []
    },
    {
      "cell_type": "markdown",
      "metadata": {
        "id": "wM5KvHE1YCy9"
      },
      "source": [
        "**Question 3:** In which month occurred the highest number of projects? (15 pt)"
      ]
    },
    {
      "cell_type": "code",
      "metadata": {
        "id": "5DTIStGMYCy-"
      },
      "source": [
        ""
      ],
      "execution_count": null,
      "outputs": []
    },
    {
      "cell_type": "markdown",
      "metadata": {
        "id": "ResaA3kxYCy_"
      },
      "source": [
        "## 4. Oscars Datasets (10pt)"
      ]
    },
    {
      "cell_type": "markdown",
      "metadata": {
        "id": "WYQasQOKYCzA"
      },
      "source": [
        "Using the [Oscars Dataset](https://www.kaggle.com/theacademy/academy-awards), please answer only one of the following questions (you can chose):"
      ]
    },
    {
      "cell_type": "markdown",
      "metadata": {
        "id": "QGDmLdbKYCzA"
      },
      "source": [
        "**Question 1:** Who is the male actress with the most Oscar nominees? (10pt)"
      ]
    },
    {
      "cell_type": "code",
      "metadata": {
        "id": "qipeHl6AYCzB"
      },
      "source": [
        ""
      ],
      "execution_count": null,
      "outputs": []
    },
    {
      "cell_type": "markdown",
      "metadata": {
        "id": "BR33wDkbYCzD"
      },
      "source": [
        "**Question 2:** Who is the female director with the most Oscar nominees? (10pt)"
      ]
    },
    {
      "cell_type": "code",
      "metadata": {
        "id": "2jm9HeghYCzD"
      },
      "source": [
        ""
      ],
      "execution_count": null,
      "outputs": []
    },
    {
      "cell_type": "markdown",
      "metadata": {
        "id": "Va320K09YCzE"
      },
      "source": [
        "**Question 3:** Which top-10 movies received the highest number of Oscar nominees? (10pt)"
      ]
    },
    {
      "cell_type": "code",
      "metadata": {
        "id": "k9gVwnHVYCzF"
      },
      "source": [
        ""
      ],
      "execution_count": null,
      "outputs": []
    },
    {
      "cell_type": "markdown",
      "metadata": {
        "id": "AF15wiyqYCzH"
      },
      "source": [
        "**Question 4:** Write a function that receives an actor's name and returns the actor’s number of Oscar nominees. Use the function to calculate the number of times Leonardo DiCaprio was a nominee (10pt)"
      ]
    },
    {
      "cell_type": "code",
      "metadata": {
        "id": "_ZdwQJCWYCzH"
      },
      "source": [
        ""
      ],
      "execution_count": null,
      "outputs": []
    },
    {
      "cell_type": "markdown",
      "metadata": {
        "id": "eW1N-PBiYCzJ"
      },
      "source": [
        "## 5. Select a Dataset (15pt)"
      ]
    },
    {
      "cell_type": "markdown",
      "metadata": {
        "id": "Me79ek_mYCzJ"
      },
      "source": [
        "**Open Question:** Select an interesting dataset and use SQL to discover something interesting (15pt). **Bonus:** Use BigQuery (2pt)"
      ]
    },
    {
      "cell_type": "code",
      "metadata": {
        "id": "xXIIUhgccGWw"
      },
      "source": [
        ""
      ],
      "execution_count": null,
      "outputs": []
    }
  ]
}